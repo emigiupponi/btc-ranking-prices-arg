{
 "cells": [
  {
   "cell_type": "markdown",
   "id": "290fb21d",
   "metadata": {
    "_cell_guid": "b7789d46-ac8a-444d-8f31-48caf94d9e8b",
    "_uuid": "4eec6c4a-bffb-41d7-932d-037b670f2736",
    "papermill": {
     "duration": 0.014767,
     "end_time": "2023-07-05T18:19:01.631369",
     "exception": false,
     "start_time": "2023-07-05T18:19:01.616602",
     "status": "completed"
    },
    "tags": []
   },
   "source": [
    "https://www.nylas.com/blog/use-python-requests-module-rest-apis/"
   ]
  },
  {
   "cell_type": "markdown",
   "id": "6b541a33",
   "metadata": {
    "_cell_guid": "86c603c1-3d64-4fcd-b6bc-6069dc49c099",
    "_uuid": "2b6bc967-294a-44a6-9539-9e2239146fec",
    "papermill": {
     "duration": 0.013172,
     "end_time": "2023-07-05T18:19:01.658370",
     "exception": false,
     "start_time": "2023-07-05T18:19:01.645198",
     "status": "completed"
    },
    "tags": []
   },
   "source": [
    "# Ranking of the final prices -including commissions- of the principal brokers or exchanges of interest in argentina\n",
    "\n",
    "https://www.nylas.com/blog/use-python-requests-module-rest-apis/"
   ]
  },
  {
   "cell_type": "markdown",
   "id": "f5e9a8b6",
   "metadata": {
    "papermill": {
     "duration": 0.012705,
     "end_time": "2023-07-05T18:19:01.684221",
     "exception": false,
     "start_time": "2023-07-05T18:19:01.671516",
     "status": "completed"
    },
    "tags": []
   },
   "source": [
    "NOTAS: en el código se puede restringuir el período a días específicos (útil para gráficos pasados). \n",
    "Se está excluyendo a RipioExchange porque el spread es muy grande. "
   ]
  },
  {
   "cell_type": "markdown",
   "id": "558b7a83",
   "metadata": {
    "papermill": {
     "duration": 0.012687,
     "end_time": "2023-07-05T18:19:01.710160",
     "exception": false,
     "start_time": "2023-07-05T18:19:01.697473",
     "status": "completed"
    },
    "tags": []
   },
   "source": [
    "# Day information"
   ]
  },
  {
   "cell_type": "code",
   "execution_count": 1,
   "id": "6766e35a",
   "metadata": {
    "_cell_guid": "5ffbab7e-6983-42d9-9f0d-c37382fef782",
    "_uuid": "74dcb180-586b-411a-8610-8fc4e531f295",
    "collapsed": false,
    "execution": {
     "iopub.execute_input": "2023-07-05T18:19:01.741785Z",
     "iopub.status.busy": "2023-07-05T18:19:01.740758Z",
     "iopub.status.idle": "2023-07-05T18:19:01.749051Z",
     "shell.execute_reply": "2023-07-05T18:19:01.747028Z"
    },
    "jupyter": {
     "outputs_hidden": false
    },
    "papermill": {
     "duration": 0.028184,
     "end_time": "2023-07-05T18:19:01.753538",
     "exception": false,
     "start_time": "2023-07-05T18:19:01.725354",
     "status": "completed"
    },
    "tags": []
   },
   "outputs": [],
   "source": [
    "#pip install requests"
   ]
  },
  {
   "cell_type": "code",
   "execution_count": 2,
   "id": "ffc0dd1b",
   "metadata": {
    "_cell_guid": "b42749bf-dc5a-4153-ada1-17853664c394",
    "_uuid": "253c43a8-3a67-401d-b0a6-a19ab830c558",
    "collapsed": false,
    "execution": {
     "iopub.execute_input": "2023-07-05T18:19:01.780982Z",
     "iopub.status.busy": "2023-07-05T18:19:01.780511Z",
     "iopub.status.idle": "2023-07-05T18:19:01.792907Z",
     "shell.execute_reply": "2023-07-05T18:19:01.792035Z"
    },
    "jupyter": {
     "outputs_hidden": false
    },
    "papermill": {
     "duration": 0.028966,
     "end_time": "2023-07-05T18:19:01.795361",
     "exception": false,
     "start_time": "2023-07-05T18:19:01.766395",
     "status": "completed"
    },
    "tags": []
   },
   "outputs": [],
   "source": [
    "import requests\n",
    "from datetime import date, datetime, timedelta\n",
    "import pandas as pd\n",
    "import numpy as np"
   ]
  },
  {
   "cell_type": "code",
   "execution_count": 3,
   "id": "8f66737f",
   "metadata": {
    "_cell_guid": "d24e4500-97ac-4f77-b7c3-87b118ab5d08",
    "_uuid": "ee752bcc-665c-491b-af7e-3c81017f397b",
    "collapsed": false,
    "execution": {
     "iopub.execute_input": "2023-07-05T18:19:01.822849Z",
     "iopub.status.busy": "2023-07-05T18:19:01.822416Z",
     "iopub.status.idle": "2023-07-05T18:19:02.106913Z",
     "shell.execute_reply": "2023-07-05T18:19:02.105718Z"
    },
    "jupyter": {
     "outputs_hidden": false
    },
    "papermill": {
     "duration": 0.302099,
     "end_time": "2023-07-05T18:19:02.110429",
     "exception": false,
     "start_time": "2023-07-05T18:19:01.808330",
     "status": "completed"
    },
    "tags": []
   },
   "outputs": [
    {
     "name": "stdout",
     "output_type": "stream",
     "text": [
      "<Response [200]>\n"
     ]
    }
   ],
   "source": [
    "response = requests.get('https://criptoya.com/api/btc/ars/0.1')\n",
    "print(response)"
   ]
  },
  {
   "cell_type": "code",
   "execution_count": 4,
   "id": "eaec0701",
   "metadata": {
    "_cell_guid": "c3c2edaf-4238-42dd-ac78-199dcba014eb",
    "_uuid": "231ed5a4-1acc-4ab5-8821-8da61faf9a9c",
    "collapsed": false,
    "execution": {
     "iopub.execute_input": "2023-07-05T18:19:02.137968Z",
     "iopub.status.busy": "2023-07-05T18:19:02.137560Z",
     "iopub.status.idle": "2023-07-05T18:19:02.148624Z",
     "shell.execute_reply": "2023-07-05T18:19:02.147276Z"
    },
    "jupyter": {
     "outputs_hidden": false
    },
    "papermill": {
     "duration": 0.027813,
     "end_time": "2023-07-05T18:19:02.151195",
     "exception": false,
     "start_time": "2023-07-05T18:19:02.123382",
     "status": "completed"
    },
    "tags": []
   },
   "outputs": [],
   "source": [
    "json = response.json()\n",
    "df = pd.DataFrame(json)"
   ]
  },
  {
   "cell_type": "code",
   "execution_count": 5,
   "id": "0d304ddf",
   "metadata": {
    "execution": {
     "iopub.execute_input": "2023-07-05T18:19:02.180955Z",
     "iopub.status.busy": "2023-07-05T18:19:02.180294Z",
     "iopub.status.idle": "2023-07-05T18:19:02.232784Z",
     "shell.execute_reply": "2023-07-05T18:19:02.231294Z"
    },
    "papermill": {
     "duration": 0.071998,
     "end_time": "2023-07-05T18:19:02.235850",
     "exception": false,
     "start_time": "2023-07-05T18:19:02.163852",
     "status": "completed"
    },
    "tags": []
   },
   "outputs": [
    {
     "data": {
      "text/html": [
       "<div>\n",
       "<style scoped>\n",
       "    .dataframe tbody tr th:only-of-type {\n",
       "        vertical-align: middle;\n",
       "    }\n",
       "\n",
       "    .dataframe tbody tr th {\n",
       "        vertical-align: top;\n",
       "    }\n",
       "\n",
       "    .dataframe thead th {\n",
       "        text-align: right;\n",
       "    }\n",
       "</style>\n",
       "<table border=\"1\" class=\"dataframe\">\n",
       "  <thead>\n",
       "    <tr style=\"text-align: right;\">\n",
       "      <th></th>\n",
       "      <th>argenbtc</th>\n",
       "      <th>buenbit</th>\n",
       "      <th>ripio</th>\n",
       "      <th>ripioexchange</th>\n",
       "      <th>satoshitango</th>\n",
       "      <th>cryptomkt</th>\n",
       "      <th>decrypto</th>\n",
       "      <th>latamex</th>\n",
       "      <th>bitso</th>\n",
       "      <th>letsbit</th>\n",
       "      <th>fiwind</th>\n",
       "      <th>lemoncash</th>\n",
       "      <th>bitmonedero</th>\n",
       "      <th>belo</th>\n",
       "      <th>tiendacrypto</th>\n",
       "      <th>saldo</th>\n",
       "      <th>kriptonmarket</th>\n",
       "      <th>calypso</th>\n",
       "      <th>bybit</th>\n",
       "      <th>binance</th>\n",
       "    </tr>\n",
       "  </thead>\n",
       "  <tbody>\n",
       "    <tr>\n",
       "      <th>ask</th>\n",
       "      <td>1.527350e+07</td>\n",
       "      <td>15408700</td>\n",
       "      <td>1.545079e+07</td>\n",
       "      <td>2.237154e+07</td>\n",
       "      <td>1.597381e+07</td>\n",
       "      <td>1.529197e+07</td>\n",
       "      <td>1.526660e+07</td>\n",
       "      <td>1.516734e+07</td>\n",
       "      <td>1.524200e+07</td>\n",
       "      <td>1.532778e+07</td>\n",
       "      <td>1.535703e+07</td>\n",
       "      <td>1.532655e+07</td>\n",
       "      <td>1.599339e+07</td>\n",
       "      <td>1.548099e+07</td>\n",
       "      <td>1.532650e+07</td>\n",
       "      <td>1.634182e+07</td>\n",
       "      <td>1.556734e+07</td>\n",
       "      <td>1.553047e+07</td>\n",
       "      <td>1.539920e+07</td>\n",
       "      <td>1.529149e+07</td>\n",
       "    </tr>\n",
       "    <tr>\n",
       "      <th>totalAsk</th>\n",
       "      <td>1.527350e+07</td>\n",
       "      <td>15408700</td>\n",
       "      <td>1.552805e+07</td>\n",
       "      <td>2.248340e+07</td>\n",
       "      <td>1.613355e+07</td>\n",
       "      <td>1.539757e+07</td>\n",
       "      <td>1.532003e+07</td>\n",
       "      <td>1.539485e+07</td>\n",
       "      <td>1.533345e+07</td>\n",
       "      <td>1.532778e+07</td>\n",
       "      <td>1.535703e+07</td>\n",
       "      <td>1.547982e+07</td>\n",
       "      <td>1.599339e+07</td>\n",
       "      <td>1.548099e+07</td>\n",
       "      <td>1.532650e+07</td>\n",
       "      <td>1.634182e+07</td>\n",
       "      <td>1.581162e+07</td>\n",
       "      <td>1.553047e+07</td>\n",
       "      <td>1.555319e+07</td>\n",
       "      <td>1.529149e+07</td>\n",
       "    </tr>\n",
       "    <tr>\n",
       "      <th>bid</th>\n",
       "      <td>1.484584e+07</td>\n",
       "      <td>15226000</td>\n",
       "      <td>1.472832e+07</td>\n",
       "      <td>1.071237e+07</td>\n",
       "      <td>1.532363e+07</td>\n",
       "      <td>1.500033e+07</td>\n",
       "      <td>1.490020e+07</td>\n",
       "      <td>1.513852e+07</td>\n",
       "      <td>1.520408e+07</td>\n",
       "      <td>1.508343e+07</td>\n",
       "      <td>1.520438e+07</td>\n",
       "      <td>1.510498e+07</td>\n",
       "      <td>1.437024e+07</td>\n",
       "      <td>1.496279e+07</td>\n",
       "      <td>1.480748e+07</td>\n",
       "      <td>1.470084e+07</td>\n",
       "      <td>1.466050e+07</td>\n",
       "      <td>1.416139e+07</td>\n",
       "      <td>1.501781e+07</td>\n",
       "      <td>1.498477e+07</td>\n",
       "    </tr>\n",
       "    <tr>\n",
       "      <th>totalBid</th>\n",
       "      <td>1.484584e+07</td>\n",
       "      <td>15226000</td>\n",
       "      <td>1.465468e+07</td>\n",
       "      <td>1.065881e+07</td>\n",
       "      <td>1.517040e+07</td>\n",
       "      <td>1.489691e+07</td>\n",
       "      <td>1.484805e+07</td>\n",
       "      <td>1.498714e+07</td>\n",
       "      <td>1.511285e+07</td>\n",
       "      <td>1.508343e+07</td>\n",
       "      <td>1.520438e+07</td>\n",
       "      <td>1.502945e+07</td>\n",
       "      <td>1.415469e+07</td>\n",
       "      <td>1.496279e+07</td>\n",
       "      <td>1.480748e+07</td>\n",
       "      <td>1.470084e+07</td>\n",
       "      <td>1.443379e+07</td>\n",
       "      <td>1.416139e+07</td>\n",
       "      <td>1.501781e+07</td>\n",
       "      <td>1.498477e+07</td>\n",
       "    </tr>\n",
       "    <tr>\n",
       "      <th>time</th>\n",
       "      <td>1.688581e+09</td>\n",
       "      <td>1688581125</td>\n",
       "      <td>1.688581e+09</td>\n",
       "      <td>1.688581e+09</td>\n",
       "      <td>1.688581e+09</td>\n",
       "      <td>1.688581e+09</td>\n",
       "      <td>1.688581e+09</td>\n",
       "      <td>1.688581e+09</td>\n",
       "      <td>1.688581e+09</td>\n",
       "      <td>1.688581e+09</td>\n",
       "      <td>1.688581e+09</td>\n",
       "      <td>1.688581e+09</td>\n",
       "      <td>1.688581e+09</td>\n",
       "      <td>1.688581e+09</td>\n",
       "      <td>1.688581e+09</td>\n",
       "      <td>1.688581e+09</td>\n",
       "      <td>1.688581e+09</td>\n",
       "      <td>1.688581e+09</td>\n",
       "      <td>1.688581e+09</td>\n",
       "      <td>1.688581e+09</td>\n",
       "    </tr>\n",
       "  </tbody>\n",
       "</table>\n",
       "</div>"
      ],
      "text/plain": [
       "              argenbtc     buenbit         ripio  ripioexchange  satoshitango  \\\n",
       "ask       1.527350e+07    15408700  1.545079e+07   2.237154e+07  1.597381e+07   \n",
       "totalAsk  1.527350e+07    15408700  1.552805e+07   2.248340e+07  1.613355e+07   \n",
       "bid       1.484584e+07    15226000  1.472832e+07   1.071237e+07  1.532363e+07   \n",
       "totalBid  1.484584e+07    15226000  1.465468e+07   1.065881e+07  1.517040e+07   \n",
       "time      1.688581e+09  1688581125  1.688581e+09   1.688581e+09  1.688581e+09   \n",
       "\n",
       "             cryptomkt      decrypto       latamex         bitso  \\\n",
       "ask       1.529197e+07  1.526660e+07  1.516734e+07  1.524200e+07   \n",
       "totalAsk  1.539757e+07  1.532003e+07  1.539485e+07  1.533345e+07   \n",
       "bid       1.500033e+07  1.490020e+07  1.513852e+07  1.520408e+07   \n",
       "totalBid  1.489691e+07  1.484805e+07  1.498714e+07  1.511285e+07   \n",
       "time      1.688581e+09  1.688581e+09  1.688581e+09  1.688581e+09   \n",
       "\n",
       "               letsbit        fiwind     lemoncash   bitmonedero  \\\n",
       "ask       1.532778e+07  1.535703e+07  1.532655e+07  1.599339e+07   \n",
       "totalAsk  1.532778e+07  1.535703e+07  1.547982e+07  1.599339e+07   \n",
       "bid       1.508343e+07  1.520438e+07  1.510498e+07  1.437024e+07   \n",
       "totalBid  1.508343e+07  1.520438e+07  1.502945e+07  1.415469e+07   \n",
       "time      1.688581e+09  1.688581e+09  1.688581e+09  1.688581e+09   \n",
       "\n",
       "                  belo  tiendacrypto         saldo  kriptonmarket  \\\n",
       "ask       1.548099e+07  1.532650e+07  1.634182e+07   1.556734e+07   \n",
       "totalAsk  1.548099e+07  1.532650e+07  1.634182e+07   1.581162e+07   \n",
       "bid       1.496279e+07  1.480748e+07  1.470084e+07   1.466050e+07   \n",
       "totalBid  1.496279e+07  1.480748e+07  1.470084e+07   1.443379e+07   \n",
       "time      1.688581e+09  1.688581e+09  1.688581e+09   1.688581e+09   \n",
       "\n",
       "               calypso         bybit       binance  \n",
       "ask       1.553047e+07  1.539920e+07  1.529149e+07  \n",
       "totalAsk  1.553047e+07  1.555319e+07  1.529149e+07  \n",
       "bid       1.416139e+07  1.501781e+07  1.498477e+07  \n",
       "totalBid  1.416139e+07  1.501781e+07  1.498477e+07  \n",
       "time      1.688581e+09  1.688581e+09  1.688581e+09  "
      ]
     },
     "execution_count": 5,
     "metadata": {},
     "output_type": "execute_result"
    }
   ],
   "source": [
    "df"
   ]
  },
  {
   "cell_type": "code",
   "execution_count": 6,
   "id": "d3793ea7",
   "metadata": {
    "execution": {
     "iopub.execute_input": "2023-07-05T18:19:02.266551Z",
     "iopub.status.busy": "2023-07-05T18:19:02.265750Z",
     "iopub.status.idle": "2023-07-05T18:19:02.279082Z",
     "shell.execute_reply": "2023-07-05T18:19:02.278106Z"
    },
    "papermill": {
     "duration": 0.031293,
     "end_time": "2023-07-05T18:19:02.281738",
     "exception": false,
     "start_time": "2023-07-05T18:19:02.250445",
     "status": "completed"
    },
    "tags": []
   },
   "outputs": [],
   "source": [
    "# Excluir a RipioExchange\n",
    "df.drop('ripioexchange', axis=1, inplace=True)"
   ]
  },
  {
   "cell_type": "code",
   "execution_count": 7,
   "id": "b10d3278",
   "metadata": {
    "execution": {
     "iopub.execute_input": "2023-07-05T18:19:02.310772Z",
     "iopub.status.busy": "2023-07-05T18:19:02.310351Z",
     "iopub.status.idle": "2023-07-05T18:19:02.321854Z",
     "shell.execute_reply": "2023-07-05T18:19:02.320594Z"
    },
    "papermill": {
     "duration": 0.030019,
     "end_time": "2023-07-05T18:19:02.324982",
     "exception": false,
     "start_time": "2023-07-05T18:19:02.294963",
     "status": "completed"
    },
    "tags": []
   },
   "outputs": [],
   "source": [
    "df_transposed = df.T\n",
    "df_transposed.columns = ['Buying', 'Buying (final)', 'Selling', 'Selling (final)', 'Timestamp']\n",
    "df_transposed['spread'] = df_transposed[\"Buying (final)\"] - df_transposed[\"Selling (final)\"]"
   ]
  },
  {
   "cell_type": "code",
   "execution_count": 8,
   "id": "0344c43d",
   "metadata": {
    "_cell_guid": "5e688235-5c6d-406a-99b7-c5638ed7ffe0",
    "_uuid": "f9129ac9-c8eb-4d37-968e-d5d51f639913",
    "collapsed": false,
    "execution": {
     "iopub.execute_input": "2023-07-05T18:19:02.353553Z",
     "iopub.status.busy": "2023-07-05T18:19:02.353134Z",
     "iopub.status.idle": "2023-07-05T18:19:02.391626Z",
     "shell.execute_reply": "2023-07-05T18:19:02.390615Z"
    },
    "jupyter": {
     "outputs_hidden": false
    },
    "papermill": {
     "duration": 0.055982,
     "end_time": "2023-07-05T18:19:02.394319",
     "exception": false,
     "start_time": "2023-07-05T18:19:02.338337",
     "status": "completed"
    },
    "tags": []
   },
   "outputs": [],
   "source": [
    "import plotly.graph_objects as go\n",
    "from plotly.subplots import make_subplots"
   ]
  },
  {
   "cell_type": "code",
   "execution_count": 9,
   "id": "b9c38300",
   "metadata": {
    "_cell_guid": "b7e9fdeb-f052-4153-8bb1-16d7fc8a40d2",
    "_uuid": "0450f0aa-f0b1-4771-b68c-95ea54d32705",
    "collapsed": false,
    "execution": {
     "iopub.execute_input": "2023-07-05T18:19:02.423390Z",
     "iopub.status.busy": "2023-07-05T18:19:02.422657Z",
     "iopub.status.idle": "2023-07-05T18:19:02.770483Z",
     "shell.execute_reply": "2023-07-05T18:19:02.768779Z"
    },
    "jupyter": {
     "outputs_hidden": false
    },
    "papermill": {
     "duration": 0.365562,
     "end_time": "2023-07-05T18:19:02.773203",
     "exception": false,
     "start_time": "2023-07-05T18:19:02.407641",
     "status": "completed"
    },
    "tags": []
   },
   "outputs": [
    {
     "data": {
      "text/html": [
       "        <script type=\"text/javascript\">\n",
       "        window.PlotlyConfig = {MathJaxConfig: 'local'};\n",
       "        if (window.MathJax && window.MathJax.Hub && window.MathJax.Hub.Config) {window.MathJax.Hub.Config({SVG: {font: \"STIX-Web\"}});}\n",
       "        if (typeof require !== 'undefined') {\n",
       "        require.undef(\"plotly\");\n",
       "        requirejs.config({\n",
       "            paths: {\n",
       "                'plotly': ['https://cdn.plot.ly/plotly-2.14.0.min']\n",
       "            }\n",
       "        });\n",
       "        require(['plotly'], function(Plotly) {\n",
       "            window._Plotly = Plotly;\n",
       "        });\n",
       "        }\n",
       "        </script>\n",
       "        "
      ]
     },
     "metadata": {},
     "output_type": "display_data"
    },
    {
     "data": {
      "text/html": [
       "<div>                            <div id=\"bbc6fbb4-2c79-4771-8aa8-8bbe6a8df808\" class=\"plotly-graph-div\" style=\"height:525px; width:100%;\"></div>            <script type=\"text/javascript\">                require([\"plotly\"], function(Plotly) {                    window.PLOTLYENV=window.PLOTLYENV || {};                                    if (document.getElementById(\"bbc6fbb4-2c79-4771-8aa8-8bbe6a8df808\")) {                    Plotly.newPlot(                        \"bbc6fbb4-2c79-4771-8aa8-8bbe6a8df808\",                        [{\"line\":{\"color\":\"#8497B0\"},\"name\":\"Compra\",\"x\":[\"argenbtc\",\"buenbit\",\"ripio\",\"satoshitango\",\"cryptomkt\",\"decrypto\",\"latamex\",\"bitso\",\"letsbit\",\"fiwind\",\"lemoncash\",\"bitmonedero\",\"belo\",\"tiendacrypto\",\"saldo\",\"kriptonmarket\",\"calypso\",\"bybit\",\"binance\"],\"y\":[14845842.0,15226000.0,14654680.54,15170397.32,14896906.01,14848050.89,14987135.07,15112851.66,15083426.0,15204378.32,15029452.44,14154687.53,14962794.66,14807476.8,14700838.16,14433791.58,14161394.03,15017813.15,14984772.51],\"type\":\"scatter\",\"xaxis\":\"x\",\"yaxis\":\"y\"},{\"line\":{\"color\":\"#F4B183\"},\"name\":\"Venta\",\"x\":[\"argenbtc\",\"buenbit\",\"ripio\",\"satoshitango\",\"cryptomkt\",\"decrypto\",\"latamex\",\"bitso\",\"letsbit\",\"fiwind\",\"lemoncash\",\"bitmonedero\",\"belo\",\"tiendacrypto\",\"saldo\",\"kriptonmarket\",\"calypso\",\"bybit\",\"binance\"],\"y\":[15273499.5,15408700.0,15528047.35,16133545.17,15397571.78,15320033.1,15394849.1,15333452.96,15327775.78,15357032.56,15479818.11,15993394.2,15480993.77,15326501.76,16341824.16,15811619.37,15530472.02,15553193.11,15291490.92],\"type\":\"scatter\",\"xaxis\":\"x\",\"yaxis\":\"y\"},{\"line\":{\"color\":\"#81BB59\"},\"name\":\"Spread %\",\"x\":[\"argenbtc\",\"buenbit\",\"ripio\",\"satoshitango\",\"cryptomkt\",\"decrypto\",\"latamex\",\"bitso\",\"letsbit\",\"fiwind\",\"lemoncash\",\"bitmonedero\",\"belo\",\"tiendacrypto\",\"saldo\",\"kriptonmarket\",\"calypso\",\"bybit\",\"binance\"],\"y\":[427657.5,182700.0,873366.8100000005,963147.8499999996,500665.76999999955,471982.20999999903,407714.02999999933,220601.30000000075,244349.77999999933,152654.24000000022,450365.6699999999,1838706.67,518199.1099999994,519024.95999999903,1640986.0,1377827.789999999,1369077.9900000002,535379.959999999,306718.41000000015],\"type\":\"scatter\",\"xaxis\":\"x2\",\"yaxis\":\"y2\"}],                        {\"template\":{\"data\":{\"histogram2dcontour\":[{\"type\":\"histogram2dcontour\",\"colorbar\":{\"outlinewidth\":0,\"ticks\":\"\"},\"colorscale\":[[0.0,\"#0d0887\"],[0.1111111111111111,\"#46039f\"],[0.2222222222222222,\"#7201a8\"],[0.3333333333333333,\"#9c179e\"],[0.4444444444444444,\"#bd3786\"],[0.5555555555555556,\"#d8576b\"],[0.6666666666666666,\"#ed7953\"],[0.7777777777777778,\"#fb9f3a\"],[0.8888888888888888,\"#fdca26\"],[1.0,\"#f0f921\"]]}],\"choropleth\":[{\"type\":\"choropleth\",\"colorbar\":{\"outlinewidth\":0,\"ticks\":\"\"}}],\"histogram2d\":[{\"type\":\"histogram2d\",\"colorbar\":{\"outlinewidth\":0,\"ticks\":\"\"},\"colorscale\":[[0.0,\"#0d0887\"],[0.1111111111111111,\"#46039f\"],[0.2222222222222222,\"#7201a8\"],[0.3333333333333333,\"#9c179e\"],[0.4444444444444444,\"#bd3786\"],[0.5555555555555556,\"#d8576b\"],[0.6666666666666666,\"#ed7953\"],[0.7777777777777778,\"#fb9f3a\"],[0.8888888888888888,\"#fdca26\"],[1.0,\"#f0f921\"]]}],\"heatmap\":[{\"type\":\"heatmap\",\"colorbar\":{\"outlinewidth\":0,\"ticks\":\"\"},\"colorscale\":[[0.0,\"#0d0887\"],[0.1111111111111111,\"#46039f\"],[0.2222222222222222,\"#7201a8\"],[0.3333333333333333,\"#9c179e\"],[0.4444444444444444,\"#bd3786\"],[0.5555555555555556,\"#d8576b\"],[0.6666666666666666,\"#ed7953\"],[0.7777777777777778,\"#fb9f3a\"],[0.8888888888888888,\"#fdca26\"],[1.0,\"#f0f921\"]]}],\"heatmapgl\":[{\"type\":\"heatmapgl\",\"colorbar\":{\"outlinewidth\":0,\"ticks\":\"\"},\"colorscale\":[[0.0,\"#0d0887\"],[0.1111111111111111,\"#46039f\"],[0.2222222222222222,\"#7201a8\"],[0.3333333333333333,\"#9c179e\"],[0.4444444444444444,\"#bd3786\"],[0.5555555555555556,\"#d8576b\"],[0.6666666666666666,\"#ed7953\"],[0.7777777777777778,\"#fb9f3a\"],[0.8888888888888888,\"#fdca26\"],[1.0,\"#f0f921\"]]}],\"contourcarpet\":[{\"type\":\"contourcarpet\",\"colorbar\":{\"outlinewidth\":0,\"ticks\":\"\"}}],\"contour\":[{\"type\":\"contour\",\"colorbar\":{\"outlinewidth\":0,\"ticks\":\"\"},\"colorscale\":[[0.0,\"#0d0887\"],[0.1111111111111111,\"#46039f\"],[0.2222222222222222,\"#7201a8\"],[0.3333333333333333,\"#9c179e\"],[0.4444444444444444,\"#bd3786\"],[0.5555555555555556,\"#d8576b\"],[0.6666666666666666,\"#ed7953\"],[0.7777777777777778,\"#fb9f3a\"],[0.8888888888888888,\"#fdca26\"],[1.0,\"#f0f921\"]]}],\"surface\":[{\"type\":\"surface\",\"colorbar\":{\"outlinewidth\":0,\"ticks\":\"\"},\"colorscale\":[[0.0,\"#0d0887\"],[0.1111111111111111,\"#46039f\"],[0.2222222222222222,\"#7201a8\"],[0.3333333333333333,\"#9c179e\"],[0.4444444444444444,\"#bd3786\"],[0.5555555555555556,\"#d8576b\"],[0.6666666666666666,\"#ed7953\"],[0.7777777777777778,\"#fb9f3a\"],[0.8888888888888888,\"#fdca26\"],[1.0,\"#f0f921\"]]}],\"mesh3d\":[{\"type\":\"mesh3d\",\"colorbar\":{\"outlinewidth\":0,\"ticks\":\"\"}}],\"scatter\":[{\"fillpattern\":{\"fillmode\":\"overlay\",\"size\":10,\"solidity\":0.2},\"type\":\"scatter\"}],\"parcoords\":[{\"type\":\"parcoords\",\"line\":{\"colorbar\":{\"outlinewidth\":0,\"ticks\":\"\"}}}],\"scatterpolargl\":[{\"type\":\"scatterpolargl\",\"marker\":{\"colorbar\":{\"outlinewidth\":0,\"ticks\":\"\"}}}],\"bar\":[{\"error_x\":{\"color\":\"#2a3f5f\"},\"error_y\":{\"color\":\"#2a3f5f\"},\"marker\":{\"line\":{\"color\":\"#E5ECF6\",\"width\":0.5},\"pattern\":{\"fillmode\":\"overlay\",\"size\":10,\"solidity\":0.2}},\"type\":\"bar\"}],\"scattergeo\":[{\"type\":\"scattergeo\",\"marker\":{\"colorbar\":{\"outlinewidth\":0,\"ticks\":\"\"}}}],\"scatterpolar\":[{\"type\":\"scatterpolar\",\"marker\":{\"colorbar\":{\"outlinewidth\":0,\"ticks\":\"\"}}}],\"histogram\":[{\"marker\":{\"pattern\":{\"fillmode\":\"overlay\",\"size\":10,\"solidity\":0.2}},\"type\":\"histogram\"}],\"scattergl\":[{\"type\":\"scattergl\",\"marker\":{\"colorbar\":{\"outlinewidth\":0,\"ticks\":\"\"}}}],\"scatter3d\":[{\"type\":\"scatter3d\",\"line\":{\"colorbar\":{\"outlinewidth\":0,\"ticks\":\"\"}},\"marker\":{\"colorbar\":{\"outlinewidth\":0,\"ticks\":\"\"}}}],\"scattermapbox\":[{\"type\":\"scattermapbox\",\"marker\":{\"colorbar\":{\"outlinewidth\":0,\"ticks\":\"\"}}}],\"scatterternary\":[{\"type\":\"scatterternary\",\"marker\":{\"colorbar\":{\"outlinewidth\":0,\"ticks\":\"\"}}}],\"scattercarpet\":[{\"type\":\"scattercarpet\",\"marker\":{\"colorbar\":{\"outlinewidth\":0,\"ticks\":\"\"}}}],\"carpet\":[{\"aaxis\":{\"endlinecolor\":\"#2a3f5f\",\"gridcolor\":\"white\",\"linecolor\":\"white\",\"minorgridcolor\":\"white\",\"startlinecolor\":\"#2a3f5f\"},\"baxis\":{\"endlinecolor\":\"#2a3f5f\",\"gridcolor\":\"white\",\"linecolor\":\"white\",\"minorgridcolor\":\"white\",\"startlinecolor\":\"#2a3f5f\"},\"type\":\"carpet\"}],\"table\":[{\"cells\":{\"fill\":{\"color\":\"#EBF0F8\"},\"line\":{\"color\":\"white\"}},\"header\":{\"fill\":{\"color\":\"#C8D4E3\"},\"line\":{\"color\":\"white\"}},\"type\":\"table\"}],\"barpolar\":[{\"marker\":{\"line\":{\"color\":\"#E5ECF6\",\"width\":0.5},\"pattern\":{\"fillmode\":\"overlay\",\"size\":10,\"solidity\":0.2}},\"type\":\"barpolar\"}],\"pie\":[{\"automargin\":true,\"type\":\"pie\"}]},\"layout\":{\"autotypenumbers\":\"strict\",\"colorway\":[\"#636efa\",\"#EF553B\",\"#00cc96\",\"#ab63fa\",\"#FFA15A\",\"#19d3f3\",\"#FF6692\",\"#B6E880\",\"#FF97FF\",\"#FECB52\"],\"font\":{\"color\":\"#2a3f5f\"},\"hovermode\":\"closest\",\"hoverlabel\":{\"align\":\"left\"},\"paper_bgcolor\":\"white\",\"plot_bgcolor\":\"#E5ECF6\",\"polar\":{\"bgcolor\":\"#E5ECF6\",\"angularaxis\":{\"gridcolor\":\"white\",\"linecolor\":\"white\",\"ticks\":\"\"},\"radialaxis\":{\"gridcolor\":\"white\",\"linecolor\":\"white\",\"ticks\":\"\"}},\"ternary\":{\"bgcolor\":\"#E5ECF6\",\"aaxis\":{\"gridcolor\":\"white\",\"linecolor\":\"white\",\"ticks\":\"\"},\"baxis\":{\"gridcolor\":\"white\",\"linecolor\":\"white\",\"ticks\":\"\"},\"caxis\":{\"gridcolor\":\"white\",\"linecolor\":\"white\",\"ticks\":\"\"}},\"coloraxis\":{\"colorbar\":{\"outlinewidth\":0,\"ticks\":\"\"}},\"colorscale\":{\"sequential\":[[0.0,\"#0d0887\"],[0.1111111111111111,\"#46039f\"],[0.2222222222222222,\"#7201a8\"],[0.3333333333333333,\"#9c179e\"],[0.4444444444444444,\"#bd3786\"],[0.5555555555555556,\"#d8576b\"],[0.6666666666666666,\"#ed7953\"],[0.7777777777777778,\"#fb9f3a\"],[0.8888888888888888,\"#fdca26\"],[1.0,\"#f0f921\"]],\"sequentialminus\":[[0.0,\"#0d0887\"],[0.1111111111111111,\"#46039f\"],[0.2222222222222222,\"#7201a8\"],[0.3333333333333333,\"#9c179e\"],[0.4444444444444444,\"#bd3786\"],[0.5555555555555556,\"#d8576b\"],[0.6666666666666666,\"#ed7953\"],[0.7777777777777778,\"#fb9f3a\"],[0.8888888888888888,\"#fdca26\"],[1.0,\"#f0f921\"]],\"diverging\":[[0,\"#8e0152\"],[0.1,\"#c51b7d\"],[0.2,\"#de77ae\"],[0.3,\"#f1b6da\"],[0.4,\"#fde0ef\"],[0.5,\"#f7f7f7\"],[0.6,\"#e6f5d0\"],[0.7,\"#b8e186\"],[0.8,\"#7fbc41\"],[0.9,\"#4d9221\"],[1,\"#276419\"]]},\"xaxis\":{\"gridcolor\":\"white\",\"linecolor\":\"white\",\"ticks\":\"\",\"title\":{\"standoff\":15},\"zerolinecolor\":\"white\",\"automargin\":true,\"zerolinewidth\":2},\"yaxis\":{\"gridcolor\":\"white\",\"linecolor\":\"white\",\"ticks\":\"\",\"title\":{\"standoff\":15},\"zerolinecolor\":\"white\",\"automargin\":true,\"zerolinewidth\":2},\"scene\":{\"xaxis\":{\"backgroundcolor\":\"#E5ECF6\",\"gridcolor\":\"white\",\"linecolor\":\"white\",\"showbackground\":true,\"ticks\":\"\",\"zerolinecolor\":\"white\",\"gridwidth\":2},\"yaxis\":{\"backgroundcolor\":\"#E5ECF6\",\"gridcolor\":\"white\",\"linecolor\":\"white\",\"showbackground\":true,\"ticks\":\"\",\"zerolinecolor\":\"white\",\"gridwidth\":2},\"zaxis\":{\"backgroundcolor\":\"#E5ECF6\",\"gridcolor\":\"white\",\"linecolor\":\"white\",\"showbackground\":true,\"ticks\":\"\",\"zerolinecolor\":\"white\",\"gridwidth\":2}},\"shapedefaults\":{\"line\":{\"color\":\"#2a3f5f\"}},\"annotationdefaults\":{\"arrowcolor\":\"#2a3f5f\",\"arrowhead\":0,\"arrowwidth\":1},\"geo\":{\"bgcolor\":\"white\",\"landcolor\":\"#E5ECF6\",\"subunitcolor\":\"white\",\"showland\":true,\"showlakes\":true,\"lakecolor\":\"white\"},\"title\":{\"x\":0.05},\"mapbox\":{\"style\":\"light\"}}},\"xaxis\":{\"anchor\":\"y\",\"domain\":[0.0,1.0],\"matches\":\"x2\",\"showticklabels\":false,\"rangeslider\":{\"visible\":false}},\"yaxis\":{\"anchor\":\"x\",\"domain\":[0.24555555555555558,1.0]},\"xaxis2\":{\"anchor\":\"y2\",\"domain\":[0.0,1.0]},\"yaxis2\":{\"anchor\":\"x2\",\"domain\":[0.0,0.21555555555555558]},\"annotations\":[{\"font\":{\"size\":16},\"showarrow\":false,\"text\":\"Prices\",\"x\":0.5,\"xanchor\":\"center\",\"xref\":\"paper\",\"y\":1.0,\"yanchor\":\"bottom\",\"yref\":\"paper\"},{\"font\":{\"size\":16},\"showarrow\":false,\"text\":\"Spread\",\"x\":0.5,\"xanchor\":\"center\",\"xref\":\"paper\",\"y\":0.21555555555555558,\"yanchor\":\"bottom\",\"yref\":\"paper\"}]},                        {\"responsive\": true}                    ).then(function(){\n",
       "                            \n",
       "var gd = document.getElementById('bbc6fbb4-2c79-4771-8aa8-8bbe6a8df808');\n",
       "var x = new MutationObserver(function (mutations, observer) {{\n",
       "        var display = window.getComputedStyle(gd).display;\n",
       "        if (!display || display === 'none') {{\n",
       "            console.log([gd, 'removed!']);\n",
       "            Plotly.purge(gd);\n",
       "            observer.disconnect();\n",
       "        }}\n",
       "}});\n",
       "\n",
       "// Listen for the removal of the full notebook cells\n",
       "var notebookContainer = gd.closest('#notebook-container');\n",
       "if (notebookContainer) {{\n",
       "    x.observe(notebookContainer, {childList: true});\n",
       "}}\n",
       "\n",
       "// Listen for the clearing of the current output cell\n",
       "var outputEl = gd.closest('.output');\n",
       "if (outputEl) {{\n",
       "    x.observe(outputEl, {childList: true});\n",
       "}}\n",
       "\n",
       "                        })                };                });            </script>        </div>"
      ]
     },
     "metadata": {},
     "output_type": "display_data"
    }
   ],
   "source": [
    "# Create subplots and mention plot grid size\n",
    "fig = make_subplots(rows=2, cols=1, shared_xaxes=True, \n",
    "               vertical_spacing=0.03, subplot_titles=('Prices', 'Spread'), \n",
    "               row_width=[0.2, 0.7])\n",
    "\n",
    "# Plot OHLC on 1st row\n",
    "\n",
    "# Add traces for 'Compra' and 'Venta'\n",
    "fig.add_trace(\n",
    "    go.Scatter(x=df_transposed.index, y=df_transposed['Selling (final)'], name='Compra', line=dict(color='#8497B0')),\n",
    "    row=1, col=1\n",
    ")\n",
    "\n",
    "fig.add_trace(\n",
    "    go.Scatter(x=df_transposed.index, y=df_transposed['Buying (final)'], name='Venta', line=dict(color='#F4B183')),\n",
    "    row=1, col=1\n",
    ")\n",
    "\n",
    "# Bar trace for volumes on 2nd row without legend\n",
    "\n",
    "# Add traces for 'Spread %'\n",
    "fig.add_trace(\n",
    "    go.Scatter(x=df_transposed.index, y=df_transposed['spread'], name='Spread %', line=dict(color='#81BB59')),\n",
    "    row=2, col=1\n",
    ")\n",
    "\n",
    "# Do not show OHLC's rangeslider plot \n",
    "fig.update(layout_xaxis_rangeslider_visible=False)\n",
    "fig.show()\n"
   ]
  },
  {
   "cell_type": "markdown",
   "id": "c55ff607",
   "metadata": {
    "papermill": {
     "duration": 0.013506,
     "end_time": "2023-07-05T18:19:02.801188",
     "exception": false,
     "start_time": "2023-07-05T18:19:02.787682",
     "status": "completed"
    },
    "tags": []
   },
   "source": [
    "# Building an historical serie day by day"
   ]
  },
  {
   "cell_type": "code",
   "execution_count": 10,
   "id": "88ef2097",
   "metadata": {
    "execution": {
     "iopub.execute_input": "2023-07-05T18:19:02.831569Z",
     "iopub.status.busy": "2023-07-05T18:19:02.831126Z",
     "iopub.status.idle": "2023-07-05T18:19:03.086589Z",
     "shell.execute_reply": "2023-07-05T18:19:03.085341Z"
    },
    "papermill": {
     "duration": 0.274284,
     "end_time": "2023-07-05T18:19:03.089462",
     "exception": false,
     "start_time": "2023-07-05T18:19:02.815178",
     "status": "completed"
    },
    "tags": []
   },
   "outputs": [],
   "source": [
    "import requests\n",
    "import pandas as pd\n",
    "from datetime import date\n",
    "import os\n",
    "\n",
    "# Definir la URL de la API y realizar la solicitud\n",
    "url = \"https://criptoya.com/api/btc/ars/0.1\"\n",
    "response = requests.get(url)\n",
    "json_data = response.json()\n",
    "\n",
    "# Extraer los campos relevantes y crear un diccionario de precios\n",
    "platform_prices = {}\n",
    "for platform, data in json_data.items():\n",
    "    platform_prices[platform] = {\n",
    "        'totalAsk': data['totalAsk'],\n",
    "        'totalBid': data['totalBid']\n",
    "    }\n",
    "\n",
    "# Crear un DataFrame y agregar una columna con la fecha actual\n",
    "df = pd.DataFrame(platform_prices).T\n",
    "df['date'] = date.today()\n",
    "\n",
    "# Guardar el DataFrame en una tabla o archivo CSV\n",
    "df.to_csv('tabla.csv', index=True, mode='a', header=not os.path.exists('tabla.csv'))"
   ]
  },
  {
   "cell_type": "code",
   "execution_count": 11,
   "id": "f37ba4fa",
   "metadata": {
    "execution": {
     "iopub.execute_input": "2023-07-05T18:19:03.121830Z",
     "iopub.status.busy": "2023-07-05T18:19:03.120278Z",
     "iopub.status.idle": "2023-07-05T18:19:03.142648Z",
     "shell.execute_reply": "2023-07-05T18:19:03.141051Z"
    },
    "papermill": {
     "duration": 0.040645,
     "end_time": "2023-07-05T18:19:03.145297",
     "exception": false,
     "start_time": "2023-07-05T18:19:03.104652",
     "status": "completed"
    },
    "tags": []
   },
   "outputs": [
    {
     "data": {
      "text/html": [
       "<div>\n",
       "<style scoped>\n",
       "    .dataframe tbody tr th:only-of-type {\n",
       "        vertical-align: middle;\n",
       "    }\n",
       "\n",
       "    .dataframe tbody tr th {\n",
       "        vertical-align: top;\n",
       "    }\n",
       "\n",
       "    .dataframe thead th {\n",
       "        text-align: right;\n",
       "    }\n",
       "</style>\n",
       "<table border=\"1\" class=\"dataframe\">\n",
       "  <thead>\n",
       "    <tr style=\"text-align: right;\">\n",
       "      <th></th>\n",
       "      <th>totalAsk</th>\n",
       "      <th>totalBid</th>\n",
       "      <th>date</th>\n",
       "    </tr>\n",
       "  </thead>\n",
       "  <tbody>\n",
       "    <tr>\n",
       "      <th>argenbtc</th>\n",
       "      <td>15273499.50</td>\n",
       "      <td>14845842.00</td>\n",
       "      <td>2023-07-05</td>\n",
       "    </tr>\n",
       "    <tr>\n",
       "      <th>buenbit</th>\n",
       "      <td>15408700.00</td>\n",
       "      <td>15226000.00</td>\n",
       "      <td>2023-07-05</td>\n",
       "    </tr>\n",
       "    <tr>\n",
       "      <th>ripio</th>\n",
       "      <td>15528047.35</td>\n",
       "      <td>14654680.54</td>\n",
       "      <td>2023-07-05</td>\n",
       "    </tr>\n",
       "    <tr>\n",
       "      <th>ripioexchange</th>\n",
       "      <td>22483399.91</td>\n",
       "      <td>10658811.06</td>\n",
       "      <td>2023-07-05</td>\n",
       "    </tr>\n",
       "    <tr>\n",
       "      <th>satoshitango</th>\n",
       "      <td>16133545.17</td>\n",
       "      <td>15170397.32</td>\n",
       "      <td>2023-07-05</td>\n",
       "    </tr>\n",
       "    <tr>\n",
       "      <th>cryptomkt</th>\n",
       "      <td>15397571.78</td>\n",
       "      <td>14896906.01</td>\n",
       "      <td>2023-07-05</td>\n",
       "    </tr>\n",
       "    <tr>\n",
       "      <th>decrypto</th>\n",
       "      <td>15320033.10</td>\n",
       "      <td>14848050.89</td>\n",
       "      <td>2023-07-05</td>\n",
       "    </tr>\n",
       "    <tr>\n",
       "      <th>latamex</th>\n",
       "      <td>15394849.10</td>\n",
       "      <td>14987135.07</td>\n",
       "      <td>2023-07-05</td>\n",
       "    </tr>\n",
       "    <tr>\n",
       "      <th>bitso</th>\n",
       "      <td>15333452.96</td>\n",
       "      <td>15112851.66</td>\n",
       "      <td>2023-07-05</td>\n",
       "    </tr>\n",
       "    <tr>\n",
       "      <th>letsbit</th>\n",
       "      <td>15327775.78</td>\n",
       "      <td>15083426.00</td>\n",
       "      <td>2023-07-05</td>\n",
       "    </tr>\n",
       "    <tr>\n",
       "      <th>fiwind</th>\n",
       "      <td>15357032.56</td>\n",
       "      <td>15204378.32</td>\n",
       "      <td>2023-07-05</td>\n",
       "    </tr>\n",
       "    <tr>\n",
       "      <th>lemoncash</th>\n",
       "      <td>15479818.11</td>\n",
       "      <td>15029452.44</td>\n",
       "      <td>2023-07-05</td>\n",
       "    </tr>\n",
       "    <tr>\n",
       "      <th>bitmonedero</th>\n",
       "      <td>15993394.20</td>\n",
       "      <td>14154687.53</td>\n",
       "      <td>2023-07-05</td>\n",
       "    </tr>\n",
       "    <tr>\n",
       "      <th>belo</th>\n",
       "      <td>15480993.77</td>\n",
       "      <td>14962794.66</td>\n",
       "      <td>2023-07-05</td>\n",
       "    </tr>\n",
       "    <tr>\n",
       "      <th>tiendacrypto</th>\n",
       "      <td>15326501.76</td>\n",
       "      <td>14807476.80</td>\n",
       "      <td>2023-07-05</td>\n",
       "    </tr>\n",
       "    <tr>\n",
       "      <th>saldo</th>\n",
       "      <td>16341824.16</td>\n",
       "      <td>14700838.16</td>\n",
       "      <td>2023-07-05</td>\n",
       "    </tr>\n",
       "    <tr>\n",
       "      <th>kriptonmarket</th>\n",
       "      <td>15811619.37</td>\n",
       "      <td>14433791.58</td>\n",
       "      <td>2023-07-05</td>\n",
       "    </tr>\n",
       "    <tr>\n",
       "      <th>calypso</th>\n",
       "      <td>15530472.02</td>\n",
       "      <td>14161394.03</td>\n",
       "      <td>2023-07-05</td>\n",
       "    </tr>\n",
       "    <tr>\n",
       "      <th>bybit</th>\n",
       "      <td>15553193.11</td>\n",
       "      <td>15017813.15</td>\n",
       "      <td>2023-07-05</td>\n",
       "    </tr>\n",
       "    <tr>\n",
       "      <th>binance</th>\n",
       "      <td>15291490.92</td>\n",
       "      <td>14984772.51</td>\n",
       "      <td>2023-07-05</td>\n",
       "    </tr>\n",
       "  </tbody>\n",
       "</table>\n",
       "</div>"
      ],
      "text/plain": [
       "                  totalAsk     totalBid        date\n",
       "argenbtc       15273499.50  14845842.00  2023-07-05\n",
       "buenbit        15408700.00  15226000.00  2023-07-05\n",
       "ripio          15528047.35  14654680.54  2023-07-05\n",
       "ripioexchange  22483399.91  10658811.06  2023-07-05\n",
       "satoshitango   16133545.17  15170397.32  2023-07-05\n",
       "cryptomkt      15397571.78  14896906.01  2023-07-05\n",
       "decrypto       15320033.10  14848050.89  2023-07-05\n",
       "latamex        15394849.10  14987135.07  2023-07-05\n",
       "bitso          15333452.96  15112851.66  2023-07-05\n",
       "letsbit        15327775.78  15083426.00  2023-07-05\n",
       "fiwind         15357032.56  15204378.32  2023-07-05\n",
       "lemoncash      15479818.11  15029452.44  2023-07-05\n",
       "bitmonedero    15993394.20  14154687.53  2023-07-05\n",
       "belo           15480993.77  14962794.66  2023-07-05\n",
       "tiendacrypto   15326501.76  14807476.80  2023-07-05\n",
       "saldo          16341824.16  14700838.16  2023-07-05\n",
       "kriptonmarket  15811619.37  14433791.58  2023-07-05\n",
       "calypso        15530472.02  14161394.03  2023-07-05\n",
       "bybit          15553193.11  15017813.15  2023-07-05\n",
       "binance        15291490.92  14984772.51  2023-07-05"
      ]
     },
     "execution_count": 11,
     "metadata": {},
     "output_type": "execute_result"
    }
   ],
   "source": [
    "df"
   ]
  },
  {
   "cell_type": "code",
   "execution_count": 12,
   "id": "cf3e0c45",
   "metadata": {
    "execution": {
     "iopub.execute_input": "2023-07-05T18:19:03.176968Z",
     "iopub.status.busy": "2023-07-05T18:19:03.175430Z",
     "iopub.status.idle": "2023-07-05T18:19:03.412918Z",
     "shell.execute_reply": "2023-07-05T18:19:03.411349Z"
    },
    "papermill": {
     "duration": 0.256765,
     "end_time": "2023-07-05T18:19:03.416151",
     "exception": false,
     "start_time": "2023-07-05T18:19:03.159386",
     "status": "completed"
    },
    "tags": []
   },
   "outputs": [],
   "source": [
    "import requests\n",
    "import pandas as pd\n",
    "from datetime import date\n",
    "import os\n",
    "\n",
    "# Definir la URL de la API y realizar la solicitud\n",
    "url = \"https://criptoya.com/api/btc/ars/0.1\"\n",
    "response = requests.get(url)\n",
    "json_data = response.json()\n",
    "\n",
    "# Extraer los campos relevantes y crear un diccionario de precios\n",
    "platform_prices = {}\n",
    "for platform, data in json_data.items():\n",
    "    platform_prices[platform] = {\n",
    "        'totalAsk': data['totalAsk'],\n",
    "        'totalBid': data['totalBid']\n",
    "    }\n",
    "\n",
    "# Crear un DataFrame con los nuevos datos y agregar una columna con la fecha actual\n",
    "new_data = pd.DataFrame(platform_prices).T\n",
    "new_data['date'] = date.today()\n",
    "\n",
    "# Crear un nombre de archivo basado en la fecha actual\n",
    "file_name = f\"tabla_{date.today()}.csv\"\n",
    "\n",
    "# Guardar el DataFrame en un archivo CSV separado por día\n",
    "new_data.to_csv(file_name, index=True)"
   ]
  },
  {
   "cell_type": "markdown",
   "id": "76aa8ea7",
   "metadata": {
    "papermill": {
     "duration": 0.013938,
     "end_time": "2023-07-05T18:19:03.443977",
     "exception": false,
     "start_time": "2023-07-05T18:19:03.430039",
     "status": "completed"
    },
    "tags": []
   },
   "source": [
    "# Enviar a S3\n"
   ]
  },
  {
   "cell_type": "code",
   "execution_count": 13,
   "id": "fa48b064",
   "metadata": {
    "execution": {
     "iopub.execute_input": "2023-07-05T18:19:03.474987Z",
     "iopub.status.busy": "2023-07-05T18:19:03.474447Z",
     "iopub.status.idle": "2023-07-05T18:19:04.032890Z",
     "shell.execute_reply": "2023-07-05T18:19:04.031768Z"
    },
    "papermill": {
     "duration": 0.577486,
     "end_time": "2023-07-05T18:19:04.036048",
     "exception": false,
     "start_time": "2023-07-05T18:19:03.458562",
     "status": "completed"
    },
    "tags": []
   },
   "outputs": [],
   "source": [
    "from kaggle_secrets import UserSecretsClient\n",
    "user_secrets = UserSecretsClient()\n",
    "secret_value_0 = user_secrets.get_secret(\"AWSAccessKeyId\")\n",
    "secret_value_1 = user_secrets.get_secret(\"AWSSecretKey\")"
   ]
  },
  {
   "cell_type": "code",
   "execution_count": 14,
   "id": "14dee387",
   "metadata": {
    "execution": {
     "iopub.execute_input": "2023-07-05T18:19:04.069021Z",
     "iopub.status.busy": "2023-07-05T18:19:04.067867Z",
     "iopub.status.idle": "2023-07-05T18:19:06.053975Z",
     "shell.execute_reply": "2023-07-05T18:19:06.052483Z"
    },
    "papermill": {
     "duration": 2.006666,
     "end_time": "2023-07-05T18:19:06.057500",
     "exception": false,
     "start_time": "2023-07-05T18:19:04.050834",
     "status": "completed"
    },
    "tags": []
   },
   "outputs": [],
   "source": [
    "import requests\n",
    "import pandas as pd\n",
    "from datetime import datetime, date\n",
    "import os\n",
    "import boto3\n",
    "import s3fs\n",
    "import pytz\n",
    "\n",
    "# Define the timezone for Buenos Aires\n",
    "ba_timezone = pytz.timezone('America/Argentina/Buenos_Aires')\n",
    "\n",
    "# Get the current datetime in the Buenos Aires timezone\n",
    "ba_datetime = datetime.now(ba_timezone)\n",
    "\n",
    "# Extract the date part from the datetime object\n",
    "current_date = ba_datetime.date()\n",
    "\n",
    "# Format the date as YYYY-MM-DD\n",
    "current_date_str = current_date.strftime('%Y-%m-%d')\n",
    "\n",
    "# Construct the filename with the current date\n",
    "filename = f'tabla_{current_date_str}.csv'\n",
    "\n",
    "# Definir la URL de la API y realizar la solicitud\n",
    "url = \"https://criptoya.com/api/btc/ars/0.1\"\n",
    "response = requests.get(url)\n",
    "json_data = response.json()\n",
    "\n",
    "# Extraer los campos relevantes y crear un diccionario de precios\n",
    "platform_prices = {}\n",
    "for platform, data in json_data.items():\n",
    "    platform_prices[platform] = {\n",
    "        'totalAsk': data['totalAsk'],\n",
    "        'totalBid': data['totalBid']\n",
    "    }\n",
    "\n",
    "# Create a DataFrame and add a column with the current date\n",
    "df = pd.DataFrame(platform_prices).T\n",
    "df['date'] = current_date\n",
    "\n",
    "# Save the DataFrame to a CSV file with the current date in the name\n",
    "df.to_csv(filename, index=True)\n",
    "\n",
    "# Configurar las credenciales de AWS\n",
    "access_key = secret_value_0\n",
    "secret_key = secret_value_1\n",
    "bucket_name = 'btcpricesinargentina'\n",
    "\n",
    "# Crear el cliente de S3\n",
    "s3_client = boto3.client('s3', aws_access_key_id=access_key, aws_secret_access_key=secret_key)\n",
    "\n",
    "# Verificar si el bucket ya existe\n",
    "response = s3_client.list_buckets()\n",
    "existing_buckets = [bucket['Name'] for bucket in response['Buckets']]\n",
    "if bucket_name not in existing_buckets:\n",
    "    # El bucket no existe, se puede crear\n",
    "    s3_client.create_bucket(Bucket=bucket_name)\n",
    "\n",
    "# Subir el archivo CSV a S3\n",
    "s3_client.upload_file(filename, bucket_name, filename)\n"
   ]
  },
  {
   "cell_type": "markdown",
   "id": "46eb6173",
   "metadata": {
    "papermill": {
     "duration": 0.014706,
     "end_time": "2023-07-05T18:19:06.087287",
     "exception": false,
     "start_time": "2023-07-05T18:19:06.072581",
     "status": "completed"
    },
    "tags": []
   },
   "source": [
    "# Importar datos de S3"
   ]
  },
  {
   "cell_type": "code",
   "execution_count": 15,
   "id": "7bb4a1bb",
   "metadata": {
    "execution": {
     "iopub.execute_input": "2023-07-05T18:19:06.118884Z",
     "iopub.status.busy": "2023-07-05T18:19:06.118388Z",
     "iopub.status.idle": "2023-07-05T18:19:08.738678Z",
     "shell.execute_reply": "2023-07-05T18:19:08.737332Z"
    },
    "papermill": {
     "duration": 2.639419,
     "end_time": "2023-07-05T18:19:08.741741",
     "exception": false,
     "start_time": "2023-07-05T18:19:06.102322",
     "status": "completed"
    },
    "tags": []
   },
   "outputs": [],
   "source": [
    "import pandas as pd\n",
    "import boto3\n",
    "import io\n",
    "\n",
    "# Configurar las credenciales de AWS\n",
    "access_key = secret_value_0\n",
    "secret_key = secret_value_1\n",
    "bucket_name = 'btcpricesinargentina'\n",
    "\n",
    "# Crear el cliente de S3\n",
    "s3_client = boto3.client('s3', aws_access_key_id=access_key, aws_secret_access_key=secret_key)\n",
    "\n",
    "# Obtener la lista de objetos en el bucket\n",
    "response = s3_client.list_objects(Bucket=bucket_name)\n",
    "objects = response['Contents']\n",
    "\n",
    "# Leer los archivos CSV y combinarlos en un DataFrame\n",
    "dataframes = []\n",
    "for obj in objects:\n",
    "    if obj['Key'].startswith('tabla_'):\n",
    "        # Descargar el archivo CSV desde S3\n",
    "        obj_data = s3_client.get_object(Bucket=bucket_name, Key=obj['Key'])\n",
    "        csv_data = obj_data['Body'].read()\n",
    "\n",
    "        # Crear un DataFrame a partir del archivo CSV\n",
    "        df = pd.read_csv(io.BytesIO(csv_data))\n",
    "        dataframes.append(df)\n",
    "\n",
    "# Combinar los DataFrames en uno solo\n",
    "combined_df = pd.concat(dataframes)\n",
    "\n",
    "# Convertir la columna de fecha a tipo datetime\n",
    "combined_df['date'] = pd.to_datetime(combined_df['date'])\n",
    "\n",
    "# Restringir la importación de datos al rango de fechas deseado\n",
    "# start_date = pd.Timestamp('2023-06-14')\n",
    "# end_date = pd.Timestamp('2023-06-22')\n",
    "# combined_df = combined_df[(combined_df['date'] >= start_date) & (combined_df['date'] <= end_date)]\n",
    "\n",
    "# Calcular el spread diario\n",
    "combined_df['spread'] = combined_df['totalAsk'] - combined_df['totalBid']\n",
    "\n",
    "# Excluir la empresa \"ripioexchange\"\n",
    "combined_df = combined_df[combined_df['Unnamed: 0'] != 'ripioexchange']\n",
    "\n",
    "# Agrupar por fecha y calcular el promedio, compra y venta diarios\n",
    "daily_avg_spread = combined_df.groupby('date')['spread'].mean()\n",
    "daily_avg_ask = combined_df.groupby('date')['totalAsk'].mean()\n",
    "daily_avg_bid = combined_df.groupby('date')['totalBid'].mean()\n",
    "\n",
    "# Calcular el promedio de compra y venta diario\n",
    "daily_avg_price = (daily_avg_ask + daily_avg_bid) / 2\n",
    "\n",
    "# Calcular el porcentaje del spread respecto al promedio de compra y venta diario\n",
    "daily_spread_percentage = (daily_avg_spread / daily_avg_price)\n",
    "\n",
    "import matplotlib.pyplot as plt\n",
    "from matplotlib.ticker import FormatStrFormatter\n",
    "\n",
    "# Calcular las desviaciones estándar diarias\n",
    "daily_std_ask = daily_avg_ask.std()\n",
    "daily_std_bid = daily_avg_bid.std()\n",
    "daily_std_spread = daily_avg_spread.std()\n",
    "daily_std_spread_percentage = daily_spread_percentage.std()"
   ]
  },
  {
   "cell_type": "markdown",
   "id": "36b9d211",
   "metadata": {
    "papermill": {
     "duration": 0.013756,
     "end_time": "2023-07-05T18:19:08.769944",
     "exception": false,
     "start_time": "2023-07-05T18:19:08.756188",
     "status": "completed"
    },
    "tags": []
   },
   "source": [
    "# Excel para web"
   ]
  },
  {
   "cell_type": "code",
   "execution_count": 16,
   "id": "acb4090d",
   "metadata": {
    "execution": {
     "iopub.execute_input": "2023-07-05T18:19:08.799956Z",
     "iopub.status.busy": "2023-07-05T18:19:08.799505Z",
     "iopub.status.idle": "2023-07-05T18:19:09.234556Z",
     "shell.execute_reply": "2023-07-05T18:19:09.232947Z"
    },
    "papermill": {
     "duration": 0.453553,
     "end_time": "2023-07-05T18:19:09.237423",
     "exception": false,
     "start_time": "2023-07-05T18:19:08.783870",
     "status": "completed"
    },
    "tags": []
   },
   "outputs": [],
   "source": [
    "import pandas as pd\n",
    "import openpyxl\n",
    "\n",
    "# Convertir el índice a formato de fecha\n",
    "dates = pd.to_datetime(daily_avg_ask.index)\n",
    "formatted_dates = dates.strftime('%d-%b-%Y')\n",
    "\n",
    "# Crear un DataFrame con los datos calculados\n",
    "data = {\n",
    "    'Fecha': formatted_dates,  # Columna de fechas en el formato \"dd-mmm-yyyy\"\n",
    "    'Compra': daily_avg_ask.values,  # Columna de precios de compra\n",
    "    'Venta': daily_avg_bid.values,  # Columna de precios de venta\n",
    "    'Spread': daily_spread_percentage.values,  # Columna de spread\n",
    "    'SD Compra': daily_std_ask,  # Desviación estándar de precios de compra\n",
    "    'SD Venta': daily_std_bid,  # Desviación estándar de precios de venta\n",
    "    'SD Spread': daily_std_spread_percentage  # Desviación estándar de spread\n",
    "}\n",
    "\n",
    "df = pd.DataFrame(data)\n",
    "\n",
    "# Crear un nuevo libro de Excel\n",
    "workbook = openpyxl.Workbook()\n",
    "\n",
    "# Hoja de datos\n",
    "data_sheet = workbook.active\n",
    "data_sheet.title = 'Datos'\n",
    "\n",
    "# Escribir los encabezados en la hoja de datos\n",
    "headers = list(df.columns)\n",
    "data_sheet.append(headers)\n",
    "\n",
    "# Escribir los datos en la hoja de datos\n",
    "for _, row in df.iterrows():\n",
    "    data_sheet.append(row.tolist())\n",
    "\n",
    "# Guardar el libro de Excel\n",
    "excel_file = 'web_cripto_spread.xlsx'\n",
    "workbook.save(excel_file)\n"
   ]
  },
  {
   "cell_type": "markdown",
   "id": "4b155320",
   "metadata": {
    "papermill": {
     "duration": 0.013862,
     "end_time": "2023-07-05T18:19:09.265887",
     "exception": false,
     "start_time": "2023-07-05T18:19:09.252025",
     "status": "completed"
    },
    "tags": []
   },
   "source": [
    "# Gráfico diario"
   ]
  },
  {
   "cell_type": "markdown",
   "id": "7557f3d6",
   "metadata": {
    "papermill": {
     "duration": 0.013762,
     "end_time": "2023-07-05T18:19:09.293705",
     "exception": false,
     "start_time": "2023-07-05T18:19:09.279943",
     "status": "completed"
    },
    "tags": []
   },
   "source": [
    "Estático"
   ]
  },
  {
   "cell_type": "code",
   "execution_count": 17,
   "id": "bb977666",
   "metadata": {
    "execution": {
     "iopub.execute_input": "2023-07-05T18:19:09.326841Z",
     "iopub.status.busy": "2023-07-05T18:19:09.326189Z",
     "iopub.status.idle": "2023-07-05T18:19:10.560291Z",
     "shell.execute_reply": "2023-07-05T18:19:10.559291Z"
    },
    "papermill": {
     "duration": 1.255421,
     "end_time": "2023-07-05T18:19:10.563949",
     "exception": false,
     "start_time": "2023-07-05T18:19:09.308528",
     "status": "completed"
    },
    "tags": []
   },
   "outputs": [
    {
     "data": {
      "image/png": "[encoded data removed]",
      "text/plain": [
       "<Figure size 720x576 with 2 Axes>"
      ]
     },
     "metadata": {
      "needs_background": "light"
     },
     "output_type": "display_data"
    }
   ],
   "source": [
    "import matplotlib.pyplot as plt\n",
    "import matplotlib.dates as mdates\n",
    "import pandas as pd\n",
    "import locale\n",
    "import requests\n",
    "from matplotlib import font_manager\n",
    "from io import BytesIO\n",
    "import tempfile\n",
    "import matplotlib.ticker as ticker\n",
    "\n",
    "\n",
    "# Obtener las fechas en formato datetime\n",
    "dates = pd.to_datetime(daily_avg_ask.index)\n",
    "\n",
    "# Descargar la fuente Roboto desde la web\n",
    "font_url = 'https://github.com/google/fonts/blob/main/apache/roboto/static/Roboto-Regular.ttf?raw=true'\n",
    "font_data = requests.get(font_url).content\n",
    "\n",
    "# Guardar el contenido de la fuente en un archivo temporal\n",
    "with tempfile.NamedTemporaryFile(suffix='.ttf', delete=False) as tmp_file:\n",
    "    tmp_file.write(font_data)\n",
    "    font_path = tmp_file.name\n",
    "\n",
    "# Registrar la fuente Roboto en matplotlib\n",
    "font_manager.fontManager.addfont(font_path)\n",
    "plt.rcParams['font.family'] = 'Roboto'\n",
    "\n",
    "# Crear los subplots\n",
    "fig2, (ax1, ax2) = plt.subplots(1, 2, figsize=(10, 8), sharex=True)\n",
    "\n",
    "# Subplot superior: Precios de compra y venta\n",
    "ax1.plot(dates, daily_avg_ask.values, label='Compra', color='#8497B0', linewidth=3)\n",
    "ax1.plot(dates, daily_avg_bid.values, label='Venta', color='#F4B183', linewidth=3)\n",
    "ax1.fill_between(dates, daily_avg_ask.values - daily_std_ask, daily_avg_ask.values + daily_std_ask, color='#8497B0', alpha=0.2, label='SD compra')\n",
    "ax1.fill_between(dates, daily_avg_bid.values - daily_std_bid, daily_avg_bid.values + daily_std_bid, color='#F4B183', alpha=0.2, label='SD venta')\n",
    "ax1.set_ylabel('mill. pesos', fontsize=20)\n",
    "ax1.yaxis.get_label().set_rotation(0)\n",
    "ax1.yaxis.get_label().set_verticalalignment('center')\n",
    "ax1.yaxis.set_label_coords(-0.02, 1.07)\n",
    "ax1.legend(fontsize=20, frameon=False)\n",
    "\n",
    "# Subplot inferior: Porcentaje de spread\n",
    "ax2.plot(dates, daily_spread_percentage.values, label='Spread %', color='#81BB59', linewidth=3)\n",
    "ax2.fill_between(dates, daily_spread_percentage.values - daily_std_spread_percentage, daily_spread_percentage.values + daily_std_spread_percentage, color='#81BB59', alpha=0.2, label='SD spread')\n",
    "ax2.set_ylabel('% Spread', fontsize=20)\n",
    "ax2.yaxis.set_major_formatter(ticker.PercentFormatter())\n",
    "ax2.yaxis.get_label().set_rotation(0)\n",
    "ax2.yaxis.get_label().set_verticalalignment('center')\n",
    "ax2.yaxis.set_label_coords(-0.02, 1.07)\n",
    "ax2.legend(fontsize=20, frameon=False)\n",
    "\n",
    "# Ajustar las marcas de graduación en los ejes x\n",
    "ax1.tick_params(axis='x', direction='in', length=6, width=2, colors='black')\n",
    "ax2.tick_params(axis='x', direction='in', length=6, width=2, colors='black')\n",
    "\n",
    "# Ajustar las marcas de graduación en los ejes y\n",
    "ax1.tick_params(axis='y', direction='in', length=6, width=2, colors='black', labelrotation=0)\n",
    "ax2.tick_params(axis='y', direction='in', length=6, width=2, colors='black', labelrotation=0)\n",
    "\n",
    "# Ajustar formato de fecha en el eje x\n",
    "date_format = mdates.DateFormatter('%d-%b')\n",
    "ax1.xaxis.set_major_locator(mdates.DayLocator(interval=3))\n",
    "ax1.xaxis.set_major_formatter(date_format)\n",
    "ax1.xaxis.set_tick_params(rotation=90)\n",
    "ax2.xaxis.set_major_locator(mdates.DayLocator(interval=3))\n",
    "ax2.xaxis.set_major_formatter(date_format)\n",
    "ax2.xaxis.set_tick_params(rotation=90)\n",
    "\n",
    "# Función para formatear los números en millones con separador de miles como coma y separador de decimales como punto\n",
    "def format_millions(x, _):\n",
    "    return \"{:,.1f}\".format(x/1000000).replace(\",\", \" \").replace(\".\", \",\")\n",
    "\n",
    "# Función para formatear los números como porcentajes con separador de miles como coma\n",
    "def format_percentages(x, _):\n",
    "    return \"{:,.1%}\".format(x).replace(\",\", \" \").replace(\".\", \",\")\n",
    "\n",
    "# Configurar la escala en millones en el subplot superior\n",
    "ax1.yaxis.set_major_formatter(plt.FuncFormatter(format_millions))\n",
    "\n",
    "# Configurar la escala en porcentajes en el subplot inferior\n",
    "ax2.yaxis.set_major_formatter(plt.FuncFormatter(format_percentages))\n",
    "\n",
    "# Ajustar tamaño de letra en los ejes\n",
    "ax1.tick_params(axis='both', labelsize=20)\n",
    "ax2.tick_params(axis='both', labelsize=20)\n",
    "\n",
    "# Ajustar el tamaño de las leyendas\n",
    "legend_font = {'family': 'Roboto', 'size': 20}\n",
    "ax1.legend(fontsize=20, frameon=False, prop=legend_font)\n",
    "ax2.legend(fontsize=20, frameon=False, prop=legend_font)\n",
    "\n",
    "# Ajustar espacio entre subplots\n",
    "fig2.tight_layout(pad=2)\n",
    "\n",
    "# Configurar el fondo transparente\n",
    "fig2.patch.set_alpha(0)\n",
    "\n",
    "# Eliminar recuadro del gráfico\n",
    "ax1.spines['top'].set_visible(False)\n",
    "ax1.spines['bottom'].set_visible(True)\n",
    "ax1.spines['right'].set_visible(False)\n",
    "ax1.spines['left'].set_visible(True)\n",
    "\n",
    "ax2.spines['top'].set_visible(False)\n",
    "ax2.spines['bottom'].set_visible(True)\n",
    "ax2.spines['right'].set_visible(False)\n",
    "ax2.spines['left'].set_visible(True)\n",
    "\n",
    "# Ajustar límites del eje y\n",
    "ax1.set_ylim(10000000, daily_avg_ask.max() * 1.2)\n",
    "ax2.set_ylim(0.02, daily_spread_percentage.max() * 1.2)\n",
    "\n",
    "# Guardar el gráfico como imagen PNG con fondo transparente\n",
    "plt.savefig('spreads.png', format='png', transparent=True)\n",
    "\n",
    "# Mostrar el gráfico\n",
    "plt.show()"
   ]
  },
  {
   "cell_type": "markdown",
   "id": "95a2d685",
   "metadata": {
    "papermill": {
     "duration": 0.015469,
     "end_time": "2023-07-05T18:19:10.595828",
     "exception": false,
     "start_time": "2023-07-05T18:19:10.580359",
     "status": "completed"
    },
    "tags": []
   },
   "source": [
    "Dinámico"
   ]
  },
  {
   "cell_type": "code",
   "execution_count": 18,
   "id": "9e2222fa",
   "metadata": {
    "execution": {
     "iopub.execute_input": "2023-07-05T18:19:10.630484Z",
     "iopub.status.busy": "2023-07-05T18:19:10.629694Z",
     "iopub.status.idle": "2023-07-05T18:19:10.783519Z",
     "shell.execute_reply": "2023-07-05T18:19:10.782007Z"
    },
    "papermill": {
     "duration": 0.174353,
     "end_time": "2023-07-05T18:19:10.786331",
     "exception": false,
     "start_time": "2023-07-05T18:19:10.611978",
     "status": "completed"
    },
    "tags": []
   },
   "outputs": [
    {
     "data": {
      "text/html": [
       "<div>                            <div id=\"11487257-b964-413a-b7a0-4fca4de5a975\" class=\"plotly-graph-div\" style=\"height:525px; width:100%;\"></div>            <script type=\"text/javascript\">                require([\"plotly\"], function(Plotly) {                    window.PLOTLYENV=window.PLOTLYENV || {};                                    if (document.getElementById(\"11487257-b964-413a-b7a0-4fca4de5a975\")) {                    Plotly.newPlot(                        \"11487257-b964-413a-b7a0-4fca4de5a975\",                        [{\"line\":{\"color\":\"#8497B0\",\"width\":3},\"name\":\"Compra\",\"x\":[\"2023-06-14T00:00:00\",\"2023-06-15T00:00:00\",\"2023-06-16T00:00:00\",\"2023-06-20T00:00:00\",\"2023-06-21T00:00:00\",\"2023-06-22T00:00:00\",\"2023-06-23T00:00:00\",\"2023-06-24T00:00:00\",\"2023-06-25T00:00:00\",\"2023-06-26T00:00:00\",\"2023-06-27T00:00:00\",\"2023-06-28T00:00:00\",\"2023-06-29T00:00:00\",\"2023-06-30T00:00:00\",\"2023-07-01T00:00:00\",\"2023-07-02T00:00:00\",\"2023-07-03T00:00:00\",\"2023-07-04T00:00:00\",\"2023-07-05T00:00:00\"],\"y\":[12850178.848421052,12774786.964736843,13170534.804210527,14293498.398421053,14995664.291052634,15239886.642105263,15720660.534210525,15614865.473157896,15675765.206842106,15444189.784210525,15636366.398947367,15350727.92631579,15461959.227894736,15469490.473157896,15524730.324210528,15559591.819999998,15740198.97,15532302.977894736,15541253.406315789],\"type\":\"scatter\",\"xaxis\":\"x\",\"yaxis\":\"y\"},{\"line\":{\"color\":\"#F4B183\",\"width\":3},\"name\":\"Venta\",\"x\":[\"2023-06-14T00:00:00\",\"2023-06-15T00:00:00\",\"2023-06-16T00:00:00\",\"2023-06-20T00:00:00\",\"2023-06-21T00:00:00\",\"2023-06-22T00:00:00\",\"2023-06-23T00:00:00\",\"2023-06-24T00:00:00\",\"2023-06-25T00:00:00\",\"2023-06-26T00:00:00\",\"2023-06-27T00:00:00\",\"2023-06-28T00:00:00\",\"2023-06-29T00:00:00\",\"2023-06-30T00:00:00\",\"2023-07-01T00:00:00\",\"2023-07-02T00:00:00\",\"2023-07-03T00:00:00\",\"2023-07-04T00:00:00\",\"2023-07-05T00:00:00\"],\"y\":[12267001.784736842,12181883.031052632,12584210.404210526,13577469.072631579,14276839.134210527,14545003.210526315,14977865.475263156,14898436.404736841,14838806.154210526,14735074.577894738,14978927.060526315,14692689.214736842,14792906.806315789,14760315.20736842,14827814.78,14870810.259473685,15056679.844210528,14927191.509473685,14856983.614210527],\"type\":\"scatter\",\"xaxis\":\"x\",\"yaxis\":\"y\"},{\"fill\":\"tonexty\",\"fillcolor\":\"rgba(132, 151, 176, 0.2)\",\"mode\":\"none\",\"showlegend\":false,\"x\":[\"2023-06-14T00:00:00\",\"2023-06-15T00:00:00\",\"2023-06-16T00:00:00\",\"2023-06-20T00:00:00\",\"2023-06-21T00:00:00\",\"2023-06-22T00:00:00\",\"2023-06-23T00:00:00\",\"2023-06-24T00:00:00\",\"2023-06-25T00:00:00\",\"2023-06-26T00:00:00\",\"2023-06-27T00:00:00\",\"2023-06-28T00:00:00\",\"2023-06-29T00:00:00\",\"2023-06-30T00:00:00\",\"2023-07-01T00:00:00\",\"2023-07-02T00:00:00\",\"2023-07-03T00:00:00\",\"2023-07-04T00:00:00\",\"2023-07-05T00:00:00\"],\"y\":[13841364.297452366,13765972.413768157,14161720.25324184,15284683.847452367,15986849.740083948,16231072.091136577,16711845.98324184,16606050.92218921,16666950.65587342,16435375.23324184,16627551.847978681,16341913.375347104,16453144.67692605,16460675.92218921,16515915.773241842,16550777.269031312,16731384.419031315,16523488.42692605,16532438.855347103],\"type\":\"scatter\",\"xaxis\":\"x\",\"yaxis\":\"y\"},{\"fill\":\"tonexty\",\"fillcolor\":\"rgba(132, 151, 176, 0.2)\",\"mode\":\"none\",\"showlegend\":false,\"x\":[\"2023-06-14T00:00:00\",\"2023-06-15T00:00:00\",\"2023-06-16T00:00:00\",\"2023-06-20T00:00:00\",\"2023-06-21T00:00:00\",\"2023-06-22T00:00:00\",\"2023-06-23T00:00:00\",\"2023-06-24T00:00:00\",\"2023-06-25T00:00:00\",\"2023-06-26T00:00:00\",\"2023-06-27T00:00:00\",\"2023-06-28T00:00:00\",\"2023-06-29T00:00:00\",\"2023-06-30T00:00:00\",\"2023-07-01T00:00:00\",\"2023-07-02T00:00:00\",\"2023-07-03T00:00:00\",\"2023-07-04T00:00:00\",\"2023-07-05T00:00:00\"],\"y\":[11858993.399389738,11783601.51570553,12179349.355179213,13302312.949389739,14004478.84202132,14248701.193073949,14729475.085179212,14623680.024126582,14684579.757810792,14453004.335179212,14645180.949916054,14359542.477284476,14470773.778863423,14478305.024126582,14533544.875179214,14568406.370968685,14749013.520968687,14541117.528863423,14550067.957284475],\"type\":\"scatter\",\"xaxis\":\"x\",\"yaxis\":\"y\"},{\"fill\":\"tonexty\",\"fillcolor\":\"rgba(244, 177, 131, 0.2)\",\"mode\":\"none\",\"showlegend\":false,\"x\":[\"2023-06-14T00:00:00\",\"2023-06-15T00:00:00\",\"2023-06-16T00:00:00\",\"2023-06-20T00:00:00\",\"2023-06-21T00:00:00\",\"2023-06-22T00:00:00\",\"2023-06-23T00:00:00\",\"2023-06-24T00:00:00\",\"2023-06-25T00:00:00\",\"2023-06-26T00:00:00\",\"2023-06-27T00:00:00\",\"2023-06-28T00:00:00\",\"2023-06-29T00:00:00\",\"2023-06-30T00:00:00\",\"2023-07-01T00:00:00\",\"2023-07-02T00:00:00\",\"2023-07-03T00:00:00\",\"2023-07-04T00:00:00\",\"2023-07-05T00:00:00\"],\"y\":[13219969.624037215,13134850.870353006,13537178.2435109,14530436.911931952,15229806.9735109,15497971.049826689,15930833.31456353,15851404.244037215,15791773.9935109,15688042.417195112,15931894.899826689,15645657.054037215,15745874.645616163,15713283.046668794,15780782.619300373,15823778.098774059,16009647.683510901,15880159.348774059,15809951.453510901],\"type\":\"scatter\",\"xaxis\":\"x\",\"yaxis\":\"y\"},{\"fill\":\"tonexty\",\"fillcolor\":\"rgba(244, 177, 131, 0.2)\",\"mode\":\"none\",\"showlegend\":false,\"x\":[\"2023-06-14T00:00:00\",\"2023-06-15T00:00:00\",\"2023-06-16T00:00:00\",\"2023-06-20T00:00:00\",\"2023-06-21T00:00:00\",\"2023-06-22T00:00:00\",\"2023-06-23T00:00:00\",\"2023-06-24T00:00:00\",\"2023-06-25T00:00:00\",\"2023-06-26T00:00:00\",\"2023-06-27T00:00:00\",\"2023-06-28T00:00:00\",\"2023-06-29T00:00:00\",\"2023-06-30T00:00:00\",\"2023-07-01T00:00:00\",\"2023-07-02T00:00:00\",\"2023-07-03T00:00:00\",\"2023-07-04T00:00:00\",\"2023-07-05T00:00:00\"],\"y\":[11314033.945436468,11228915.191752259,11631242.564910153,12624501.233331205,13323871.294910153,13592035.371225942,14024897.635962782,13945468.565436468,13885838.314910153,13782106.738594364,14025959.221225942,13739721.375436468,13839938.967015415,13807347.368068047,13874846.940699626,13917842.420173312,14103712.004910154,13974223.670173312,13904015.774910154],\"type\":\"scatter\",\"xaxis\":\"x\",\"yaxis\":\"y\"},{\"line\":{\"color\":\"#81BB59\",\"width\":3},\"name\":\"Spread %\",\"x\":[\"2023-06-14T00:00:00\",\"2023-06-15T00:00:00\",\"2023-06-16T00:00:00\",\"2023-06-20T00:00:00\",\"2023-06-21T00:00:00\",\"2023-06-22T00:00:00\",\"2023-06-23T00:00:00\",\"2023-06-24T00:00:00\",\"2023-06-25T00:00:00\",\"2023-06-26T00:00:00\",\"2023-06-27T00:00:00\",\"2023-06-28T00:00:00\",\"2023-06-29T00:00:00\",\"2023-06-30T00:00:00\",\"2023-07-01T00:00:00\",\"2023-07-02T00:00:00\",\"2023-07-03T00:00:00\",\"2023-07-04T00:00:00\",\"2023-07-05T00:00:00\"],\"y\":[0.046436506724352844,0.04751466712379829,0.04553136870546784,0.051381734525947596,0.049112653359311594,0.04666013102731369,0.04839288106003129,0.04695847544051387,0.05485635323062964,0.046993538199439557,0.0429484263667976,0.04380584994639473,0.044227756343222284,0.04691894306461362,0.04592139089607017,0.04526930394987597,0.04438885706002641,0.03973220689345274,0.045020360334924146],\"type\":\"scatter\",\"xaxis\":\"x2\",\"yaxis\":\"y2\"},{\"fill\":\"tonexty\",\"fillcolor\":\"rgba(129, 187, 89, 0.2)\",\"mode\":\"none\",\"showlegend\":false,\"x\":[\"2023-06-14T00:00:00\",\"2023-06-15T00:00:00\",\"2023-06-16T00:00:00\",\"2023-06-20T00:00:00\",\"2023-06-21T00:00:00\",\"2023-06-22T00:00:00\",\"2023-06-23T00:00:00\",\"2023-06-24T00:00:00\",\"2023-06-25T00:00:00\",\"2023-06-26T00:00:00\",\"2023-06-27T00:00:00\",\"2023-06-28T00:00:00\",\"2023-06-29T00:00:00\",\"2023-06-30T00:00:00\",\"2023-07-01T00:00:00\",\"2023-07-02T00:00:00\",\"2023-07-03T00:00:00\",\"2023-07-04T00:00:00\",\"2023-07-05T00:00:00\"],\"y\":[0.04322262910206956,0.044300789501515,0.042317491083184555,0.048167856903664305,0.0458987757370283,0.0434462534050304,0.045179003437748,0.04374459781823058,0.05164247560834635,0.043779660577156265,0.039734548744514306,0.040591972324111436,0.04101387872093899,0.043705065442330326,0.042707513273786885,0.04205542632759268,0.04117497943774312,0.03651832927116945,0.041806482712640855],\"type\":\"scatter\",\"xaxis\":\"x2\",\"yaxis\":\"y2\"},{\"fill\":\"tonexty\",\"fillcolor\":\"rgba(129, 187, 89, 0.2)\",\"mode\":\"none\",\"showlegend\":false,\"x\":[\"2023-06-14T00:00:00\",\"2023-06-15T00:00:00\",\"2023-06-16T00:00:00\",\"2023-06-20T00:00:00\",\"2023-06-21T00:00:00\",\"2023-06-22T00:00:00\",\"2023-06-23T00:00:00\",\"2023-06-24T00:00:00\",\"2023-06-25T00:00:00\",\"2023-06-26T00:00:00\",\"2023-06-27T00:00:00\",\"2023-06-28T00:00:00\",\"2023-06-29T00:00:00\",\"2023-06-30T00:00:00\",\"2023-07-01T00:00:00\",\"2023-07-02T00:00:00\",\"2023-07-03T00:00:00\",\"2023-07-04T00:00:00\",\"2023-07-05T00:00:00\"],\"y\":[0.04965038434663613,0.05072854474608157,0.048745246327751124,0.05459561214823089,0.052326530981594885,0.04987400864959697,0.05160675868231458,0.05017235306279716,0.05807023085291292,0.05020741582172285,0.04616230398908089,0.04701972756867802,0.047441633965505575,0.05013282068689691,0.04913526851835345,0.048483181572159265,0.0476027346823097,0.04294608451573603,0.04823423795720744],\"type\":\"scatter\",\"xaxis\":\"x2\",\"yaxis\":\"y2\"}],                        {\"template\":{\"data\":{\"histogram2dcontour\":[{\"type\":\"histogram2dcontour\",\"colorbar\":{\"outlinewidth\":0,\"ticks\":\"\"},\"colorscale\":[[0.0,\"#0d0887\"],[0.1111111111111111,\"#46039f\"],[0.2222222222222222,\"#7201a8\"],[0.3333333333333333,\"#9c179e\"],[0.4444444444444444,\"#bd3786\"],[0.5555555555555556,\"#d8576b\"],[0.6666666666666666,\"#ed7953\"],[0.7777777777777778,\"#fb9f3a\"],[0.8888888888888888,\"#fdca26\"],[1.0,\"#f0f921\"]]}],\"choropleth\":[{\"type\":\"choropleth\",\"colorbar\":{\"outlinewidth\":0,\"ticks\":\"\"}}],\"histogram2d\":[{\"type\":\"histogram2d\",\"colorbar\":{\"outlinewidth\":0,\"ticks\":\"\"},\"colorscale\":[[0.0,\"#0d0887\"],[0.1111111111111111,\"#46039f\"],[0.2222222222222222,\"#7201a8\"],[0.3333333333333333,\"#9c179e\"],[0.4444444444444444,\"#bd3786\"],[0.5555555555555556,\"#d8576b\"],[0.6666666666666666,\"#ed7953\"],[0.7777777777777778,\"#fb9f3a\"],[0.8888888888888888,\"#fdca26\"],[1.0,\"#f0f921\"]]}],\"heatmap\":[{\"type\":\"heatmap\",\"colorbar\":{\"outlinewidth\":0,\"ticks\":\"\"},\"colorscale\":[[0.0,\"#0d0887\"],[0.1111111111111111,\"#46039f\"],[0.2222222222222222,\"#7201a8\"],[0.3333333333333333,\"#9c179e\"],[0.4444444444444444,\"#bd3786\"],[0.5555555555555556,\"#d8576b\"],[0.6666666666666666,\"#ed7953\"],[0.7777777777777778,\"#fb9f3a\"],[0.8888888888888888,\"#fdca26\"],[1.0,\"#f0f921\"]]}],\"heatmapgl\":[{\"type\":\"heatmapgl\",\"colorbar\":{\"outlinewidth\":0,\"ticks\":\"\"},\"colorscale\":[[0.0,\"#0d0887\"],[0.1111111111111111,\"#46039f\"],[0.2222222222222222,\"#7201a8\"],[0.3333333333333333,\"#9c179e\"],[0.4444444444444444,\"#bd3786\"],[0.5555555555555556,\"#d8576b\"],[0.6666666666666666,\"#ed7953\"],[0.7777777777777778,\"#fb9f3a\"],[0.8888888888888888,\"#fdca26\"],[1.0,\"#f0f921\"]]}],\"contourcarpet\":[{\"type\":\"contourcarpet\",\"colorbar\":{\"outlinewidth\":0,\"ticks\":\"\"}}],\"contour\":[{\"type\":\"contour\",\"colorbar\":{\"outlinewidth\":0,\"ticks\":\"\"},\"colorscale\":[[0.0,\"#0d0887\"],[0.1111111111111111,\"#46039f\"],[0.2222222222222222,\"#7201a8\"],[0.3333333333333333,\"#9c179e\"],[0.4444444444444444,\"#bd3786\"],[0.5555555555555556,\"#d8576b\"],[0.6666666666666666,\"#ed7953\"],[0.7777777777777778,\"#fb9f3a\"],[0.8888888888888888,\"#fdca26\"],[1.0,\"#f0f921\"]]}],\"surface\":[{\"type\":\"surface\",\"colorbar\":{\"outlinewidth\":0,\"ticks\":\"\"},\"colorscale\":[[0.0,\"#0d0887\"],[0.1111111111111111,\"#46039f\"],[0.2222222222222222,\"#7201a8\"],[0.3333333333333333,\"#9c179e\"],[0.4444444444444444,\"#bd3786\"],[0.5555555555555556,\"#d8576b\"],[0.6666666666666666,\"#ed7953\"],[0.7777777777777778,\"#fb9f3a\"],[0.8888888888888888,\"#fdca26\"],[1.0,\"#f0f921\"]]}],\"mesh3d\":[{\"type\":\"mesh3d\",\"colorbar\":{\"outlinewidth\":0,\"ticks\":\"\"}}],\"scatter\":[{\"fillpattern\":{\"fillmode\":\"overlay\",\"size\":10,\"solidity\":0.2},\"type\":\"scatter\"}],\"parcoords\":[{\"type\":\"parcoords\",\"line\":{\"colorbar\":{\"outlinewidth\":0,\"ticks\":\"\"}}}],\"scatterpolargl\":[{\"type\":\"scatterpolargl\",\"marker\":{\"colorbar\":{\"outlinewidth\":0,\"ticks\":\"\"}}}],\"bar\":[{\"error_x\":{\"color\":\"#2a3f5f\"},\"error_y\":{\"color\":\"#2a3f5f\"},\"marker\":{\"line\":{\"color\":\"#E5ECF6\",\"width\":0.5},\"pattern\":{\"fillmode\":\"overlay\",\"size\":10,\"solidity\":0.2}},\"type\":\"bar\"}],\"scattergeo\":[{\"type\":\"scattergeo\",\"marker\":{\"colorbar\":{\"outlinewidth\":0,\"ticks\":\"\"}}}],\"scatterpolar\":[{\"type\":\"scatterpolar\",\"marker\":{\"colorbar\":{\"outlinewidth\":0,\"ticks\":\"\"}}}],\"histogram\":[{\"marker\":{\"pattern\":{\"fillmode\":\"overlay\",\"size\":10,\"solidity\":0.2}},\"type\":\"histogram\"}],\"scattergl\":[{\"type\":\"scattergl\",\"marker\":{\"colorbar\":{\"outlinewidth\":0,\"ticks\":\"\"}}}],\"scatter3d\":[{\"type\":\"scatter3d\",\"line\":{\"colorbar\":{\"outlinewidth\":0,\"ticks\":\"\"}},\"marker\":{\"colorbar\":{\"outlinewidth\":0,\"ticks\":\"\"}}}],\"scattermapbox\":[{\"type\":\"scattermapbox\",\"marker\":{\"colorbar\":{\"outlinewidth\":0,\"ticks\":\"\"}}}],\"scatterternary\":[{\"type\":\"scatterternary\",\"marker\":{\"colorbar\":{\"outlinewidth\":0,\"ticks\":\"\"}}}],\"scattercarpet\":[{\"type\":\"scattercarpet\",\"marker\":{\"colorbar\":{\"outlinewidth\":0,\"ticks\":\"\"}}}],\"carpet\":[{\"aaxis\":{\"endlinecolor\":\"#2a3f5f\",\"gridcolor\":\"white\",\"linecolor\":\"white\",\"minorgridcolor\":\"white\",\"startlinecolor\":\"#2a3f5f\"},\"baxis\":{\"endlinecolor\":\"#2a3f5f\",\"gridcolor\":\"white\",\"linecolor\":\"white\",\"minorgridcolor\":\"white\",\"startlinecolor\":\"#2a3f5f\"},\"type\":\"carpet\"}],\"table\":[{\"cells\":{\"fill\":{\"color\":\"#EBF0F8\"},\"line\":{\"color\":\"white\"}},\"header\":{\"fill\":{\"color\":\"#C8D4E3\"},\"line\":{\"color\":\"white\"}},\"type\":\"table\"}],\"barpolar\":[{\"marker\":{\"line\":{\"color\":\"#E5ECF6\",\"width\":0.5},\"pattern\":{\"fillmode\":\"overlay\",\"size\":10,\"solidity\":0.2}},\"type\":\"barpolar\"}],\"pie\":[{\"automargin\":true,\"type\":\"pie\"}]},\"layout\":{\"autotypenumbers\":\"strict\",\"colorway\":[\"#636efa\",\"#EF553B\",\"#00cc96\",\"#ab63fa\",\"#FFA15A\",\"#19d3f3\",\"#FF6692\",\"#B6E880\",\"#FF97FF\",\"#FECB52\"],\"font\":{\"color\":\"#2a3f5f\"},\"hovermode\":\"closest\",\"hoverlabel\":{\"align\":\"left\"},\"paper_bgcolor\":\"white\",\"plot_bgcolor\":\"#E5ECF6\",\"polar\":{\"bgcolor\":\"#E5ECF6\",\"angularaxis\":{\"gridcolor\":\"white\",\"linecolor\":\"white\",\"ticks\":\"\"},\"radialaxis\":{\"gridcolor\":\"white\",\"linecolor\":\"white\",\"ticks\":\"\"}},\"ternary\":{\"bgcolor\":\"#E5ECF6\",\"aaxis\":{\"gridcolor\":\"white\",\"linecolor\":\"white\",\"ticks\":\"\"},\"baxis\":{\"gridcolor\":\"white\",\"linecolor\":\"white\",\"ticks\":\"\"},\"caxis\":{\"gridcolor\":\"white\",\"linecolor\":\"white\",\"ticks\":\"\"}},\"coloraxis\":{\"colorbar\":{\"outlinewidth\":0,\"ticks\":\"\"}},\"colorscale\":{\"sequential\":[[0.0,\"#0d0887\"],[0.1111111111111111,\"#46039f\"],[0.2222222222222222,\"#7201a8\"],[0.3333333333333333,\"#9c179e\"],[0.4444444444444444,\"#bd3786\"],[0.5555555555555556,\"#d8576b\"],[0.6666666666666666,\"#ed7953\"],[0.7777777777777778,\"#fb9f3a\"],[0.8888888888888888,\"#fdca26\"],[1.0,\"#f0f921\"]],\"sequentialminus\":[[0.0,\"#0d0887\"],[0.1111111111111111,\"#46039f\"],[0.2222222222222222,\"#7201a8\"],[0.3333333333333333,\"#9c179e\"],[0.4444444444444444,\"#bd3786\"],[0.5555555555555556,\"#d8576b\"],[0.6666666666666666,\"#ed7953\"],[0.7777777777777778,\"#fb9f3a\"],[0.8888888888888888,\"#fdca26\"],[1.0,\"#f0f921\"]],\"diverging\":[[0,\"#8e0152\"],[0.1,\"#c51b7d\"],[0.2,\"#de77ae\"],[0.3,\"#f1b6da\"],[0.4,\"#fde0ef\"],[0.5,\"#f7f7f7\"],[0.6,\"#e6f5d0\"],[0.7,\"#b8e186\"],[0.8,\"#7fbc41\"],[0.9,\"#4d9221\"],[1,\"#276419\"]]},\"xaxis\":{\"gridcolor\":\"white\",\"linecolor\":\"white\",\"ticks\":\"\",\"title\":{\"standoff\":15},\"zerolinecolor\":\"white\",\"automargin\":true,\"zerolinewidth\":2},\"yaxis\":{\"gridcolor\":\"white\",\"linecolor\":\"white\",\"ticks\":\"\",\"title\":{\"standoff\":15},\"zerolinecolor\":\"white\",\"automargin\":true,\"zerolinewidth\":2},\"scene\":{\"xaxis\":{\"backgroundcolor\":\"#E5ECF6\",\"gridcolor\":\"white\",\"linecolor\":\"white\",\"showbackground\":true,\"ticks\":\"\",\"zerolinecolor\":\"white\",\"gridwidth\":2},\"yaxis\":{\"backgroundcolor\":\"#E5ECF6\",\"gridcolor\":\"white\",\"linecolor\":\"white\",\"showbackground\":true,\"ticks\":\"\",\"zerolinecolor\":\"white\",\"gridwidth\":2},\"zaxis\":{\"backgroundcolor\":\"#E5ECF6\",\"gridcolor\":\"white\",\"linecolor\":\"white\",\"showbackground\":true,\"ticks\":\"\",\"zerolinecolor\":\"white\",\"gridwidth\":2}},\"shapedefaults\":{\"line\":{\"color\":\"#2a3f5f\"}},\"annotationdefaults\":{\"arrowcolor\":\"#2a3f5f\",\"arrowhead\":0,\"arrowwidth\":1},\"geo\":{\"bgcolor\":\"white\",\"landcolor\":\"#E5ECF6\",\"subunitcolor\":\"white\",\"showland\":true,\"showlakes\":true,\"lakecolor\":\"white\"},\"title\":{\"x\":0.05},\"mapbox\":{\"style\":\"light\"}}},\"xaxis\":{\"anchor\":\"y\",\"domain\":[0.0,0.45],\"title\":{\"text\":\"Fecha\"},\"tickangle\":90,\"tickformat\":\"%d-%b\"},\"yaxis\":{\"anchor\":\"x\",\"domain\":[0.0,1.0],\"title\":{\"text\":\"mill. pesos\",\"standoff\":25,\"font\":{\"size\":18}},\"tickformat\":\"~s\"},\"xaxis2\":{\"anchor\":\"y2\",\"domain\":[0.55,1.0]},\"yaxis2\":{\"anchor\":\"x2\",\"domain\":[0.0,1.0],\"title\":{\"text\":\"% Spread\",\"standoff\":25,\"font\":{\"size\":18}},\"tickformat\":\",.1%\",\"overlaying\":\"y\",\"side\":\"right\"},\"legend\":{\"font\":{\"size\":12},\"x\":0,\"y\":1,\"traceorder\":\"normal\",\"bgcolor\":\"rgba(0,0,0,0)\"},\"margin\":{\"l\":50,\"r\":50,\"t\":50,\"b\":50},\"title\":{\"text\":\"Gráfico de Spread\"},\"showlegend\":true},                        {\"responsive\": true}                    ).then(function(){\n",
       "                            \n",
       "var gd = document.getElementById('11487257-b964-413a-b7a0-4fca4de5a975');\n",
       "var x = new MutationObserver(function (mutations, observer) {{\n",
       "        var display = window.getComputedStyle(gd).display;\n",
       "        if (!display || display === 'none') {{\n",
       "            console.log([gd, 'removed!']);\n",
       "            Plotly.purge(gd);\n",
       "            observer.disconnect();\n",
       "        }}\n",
       "}});\n",
       "\n",
       "// Listen for the removal of the full notebook cells\n",
       "var notebookContainer = gd.closest('#notebook-container');\n",
       "if (notebookContainer) {{\n",
       "    x.observe(notebookContainer, {childList: true});\n",
       "}}\n",
       "\n",
       "// Listen for the clearing of the current output cell\n",
       "var outputEl = gd.closest('.output');\n",
       "if (outputEl) {{\n",
       "    x.observe(outputEl, {childList: true});\n",
       "}}\n",
       "\n",
       "                        })                };                });            </script>        </div>"
      ]
     },
     "metadata": {},
     "output_type": "display_data"
    }
   ],
   "source": [
    "import plotly.graph_objects as go\n",
    "from plotly.subplots import make_subplots\n",
    "import pandas as pd\n",
    "\n",
    "# Crear los subplots\n",
    "fig3 = make_subplots(rows=1, cols=2, shared_xaxes=True)\n",
    "\n",
    "# Subplot superior: Precios de compra y venta\n",
    "fig3.add_trace(go.Scatter(x=daily_avg_ask.index, y=daily_avg_ask.values, name='Compra', line=dict(color='#8497B0', width=3)), row=1, col=1)\n",
    "fig3.add_trace(go.Scatter(x=daily_avg_bid.index, y=daily_avg_bid.values, name='Venta', line=dict(color='#F4B183', width=3)), row=1, col=1)\n",
    "fig3.add_trace(go.Scatter(x=daily_avg_ask.index, y=daily_avg_ask.values + daily_std_ask, fill='tonexty', mode='none', fillcolor='rgba(132, 151, 176, 0.2)', showlegend=False), row=1, col=1)\n",
    "fig3.add_trace(go.Scatter(x=daily_avg_ask.index, y=daily_avg_ask.values - daily_std_ask, fill='tonexty', mode='none', fillcolor='rgba(132, 151, 176, 0.2)', showlegend=False), row=1, col=1)\n",
    "fig3.add_trace(go.Scatter(x=daily_avg_bid.index, y=daily_avg_bid.values + daily_std_bid, fill='tonexty', mode='none', fillcolor='rgba(244, 177, 131, 0.2)', showlegend=False), row=1, col=1)\n",
    "fig3.add_trace(go.Scatter(x=daily_avg_bid.index, y=daily_avg_bid.values - daily_std_bid, fill='tonexty', mode='none', fillcolor='rgba(244, 177, 131, 0.2)', showlegend=False), row=1, col=1)\n",
    "\n",
    "# Subplot inferior: Porcentaje de spread\n",
    "fig3.add_trace(go.Scatter(x=daily_spread_percentage.index, y=daily_spread_percentage.values, name='Spread %', line=dict(color='#81BB59', width=3)), row=1, col=2)\n",
    "fig3.add_trace(go.Scatter(x=daily_spread_percentage.index, y=daily_spread_percentage.values - daily_std_spread_percentage, fill='tonexty', mode='none', fillcolor='rgba(129, 187, 89, 0.2)', showlegend=False), row=1, col=2)\n",
    "fig3.add_trace(go.Scatter(x=daily_spread_percentage.index, y=daily_spread_percentage.values + daily_std_spread_percentage, fill='tonexty', mode='none', fillcolor='rgba(129, 187, 89, 0.2)', showlegend=False), row=1, col=2)\n",
    "\n",
    "# Configurar el diseño del gráfico\n",
    "fig3.update_layout(\n",
    "    title='Gráfico de Spread',\n",
    "    yaxis=dict(\n",
    "        title='mill. pesos',\n",
    "        title_standoff=25,\n",
    "        title_font=dict(size=18),\n",
    "        tickformat='~s'\n",
    "    ),\n",
    "    yaxis2=dict(\n",
    "        title='% Spread',\n",
    "        title_standoff=25,\n",
    "        title_font=dict(size=18),\n",
    "        tickformat=',.1%',\n",
    "        overlaying='y',\n",
    "        side='right'\n",
    "    ),\n",
    "    xaxis=dict(\n",
    "        title='Fecha',\n",
    "        tickangle=90,\n",
    "        tickformat='%d-%b'\n",
    "    ),\n",
    "    legend=dict(\n",
    "        x=0,\n",
    "        y=1,\n",
    "        traceorder='normal',\n",
    "        font=dict(size=12),\n",
    "        bgcolor='rgba(0,0,0,0)'\n",
    "    ),\n",
    "    margin=dict(l=50, r=50, t=50, b=50),\n",
    "    showlegend=True\n",
    ")\n",
    "\n",
    "# Mostrar el gráfico interactivo\n",
    "fig3.show()\n"
   ]
  },
  {
   "cell_type": "markdown",
   "id": "43c90602",
   "metadata": {
    "papermill": {
     "duration": 0.015975,
     "end_time": "2023-07-05T18:19:10.818745",
     "exception": false,
     "start_time": "2023-07-05T18:19:10.802770",
     "status": "completed"
    },
    "tags": []
   },
   "source": [
    "## Sending to the monitor page"
   ]
  },
  {
   "cell_type": "code",
   "execution_count": 19,
   "id": "1207a90e",
   "metadata": {
    "_cell_guid": "ba25fb3a-a4e5-4f1c-8f54-e1f96d14f430",
    "_uuid": "86c5b4db-d56e-4ee7-8462-3c0c0247dc49",
    "collapsed": false,
    "execution": {
     "iopub.execute_input": "2023-07-05T18:19:10.853631Z",
     "iopub.status.busy": "2023-07-05T18:19:10.853199Z",
     "iopub.status.idle": "2023-07-05T18:19:27.020129Z",
     "shell.execute_reply": "2023-07-05T18:19:27.018199Z"
    },
    "jupyter": {
     "outputs_hidden": false
    },
    "papermill": {
     "duration": 16.188227,
     "end_time": "2023-07-05T18:19:27.023269",
     "exception": false,
     "start_time": "2023-07-05T18:19:10.835042",
     "status": "completed"
    },
    "tags": []
   },
   "outputs": [
    {
     "name": "stdout",
     "output_type": "stream",
     "text": [
      "Collecting chart_studio\r\n",
      "  Downloading chart_studio-1.1.0-py3-none-any.whl (64 kB)\r\n",
      "\u001b[2K     \u001b[90m━━━━━━━━━━━━━━━━━━━━━━━━━━━━━━━━━━━━━━━━\u001b[0m \u001b[32m64.4/64.4 kB\u001b[0m \u001b[31m2.6 MB/s\u001b[0m eta \u001b[36m0:00:00\u001b[0m\r\n",
      "\u001b[?25hRequirement already satisfied: plotly in /opt/conda/lib/python3.7/site-packages (from chart_studio) (5.10.0)\r\n",
      "Requirement already satisfied: six in /opt/conda/lib/python3.7/site-packages (from chart_studio) (1.15.0)\r\n",
      "Requirement already satisfied: retrying>=1.3.3 in /opt/conda/lib/python3.7/site-packages (from chart_studio) (1.3.3)\r\n",
      "Requirement already satisfied: requests in /opt/conda/lib/python3.7/site-packages (from chart_studio) (2.28.1)\r\n",
      "Requirement already satisfied: tenacity>=6.2.0 in /opt/conda/lib/python3.7/site-packages (from plotly->chart_studio) (8.0.1)\r\n",
      "Requirement already satisfied: idna<4,>=2.5 in /opt/conda/lib/python3.7/site-packages (from requests->chart_studio) (3.3)\r\n",
      "Requirement already satisfied: certifi>=2017.4.17 in /opt/conda/lib/python3.7/site-packages (from requests->chart_studio) (2022.9.24)\r\n",
      "Requirement already satisfied: charset-normalizer<3,>=2 in /opt/conda/lib/python3.7/site-packages (from requests->chart_studio) (2.1.0)\r\n",
      "Requirement already satisfied: urllib3<1.27,>=1.21.1 in /opt/conda/lib/python3.7/site-packages (from requests->chart_studio) (1.26.12)\r\n",
      "Installing collected packages: chart_studio\r\n",
      "Successfully installed chart_studio-1.1.0\r\n",
      "\u001b[33mWARNING: Running pip as the 'root' user can result in broken permissions and conflicting behaviour with the system package manager. It is recommended to use a virtual environment instead: https://pip.pypa.io/warnings/venv\u001b[0m\u001b[33m\r\n",
      "\u001b[0mNote: you may need to restart the kernel to use updated packages.\n"
     ]
    }
   ],
   "source": [
    "pip install chart_studio"
   ]
  },
  {
   "cell_type": "code",
   "execution_count": 20,
   "id": "d1020b16",
   "metadata": {
    "execution": {
     "iopub.execute_input": "2023-07-05T18:19:27.060462Z",
     "iopub.status.busy": "2023-07-05T18:19:27.059893Z",
     "iopub.status.idle": "2023-07-05T18:19:27.084985Z",
     "shell.execute_reply": "2023-07-05T18:19:27.083580Z"
    },
    "papermill": {
     "duration": 0.047679,
     "end_time": "2023-07-05T18:19:27.088504",
     "exception": false,
     "start_time": "2023-07-05T18:19:27.040825",
     "status": "completed"
    },
    "tags": []
   },
   "outputs": [],
   "source": [
    "import chart_studio"
   ]
  },
  {
   "cell_type": "code",
   "execution_count": 21,
   "id": "57c33163",
   "metadata": {
    "_cell_guid": "79763ece-1831-48c1-ac38-2a80d7a37738",
    "_uuid": "20f4a4fc-d0cf-4bad-85e9-fa4d7745112a",
    "collapsed": false,
    "execution": {
     "iopub.execute_input": "2023-07-05T18:19:27.126434Z",
     "iopub.status.busy": "2023-07-05T18:19:27.125440Z",
     "iopub.status.idle": "2023-07-05T18:19:27.131409Z",
     "shell.execute_reply": "2023-07-05T18:19:27.130355Z"
    },
    "jupyter": {
     "outputs_hidden": false
    },
    "papermill": {
     "duration": 0.027943,
     "end_time": "2023-07-05T18:19:27.134116",
     "exception": false,
     "start_time": "2023-07-05T18:19:27.106173",
     "status": "completed"
    },
    "tags": []
   },
   "outputs": [],
   "source": [
    "import chart_studio.plotly as py"
   ]
  },
  {
   "cell_type": "code",
   "execution_count": 22,
   "id": "d25cb998",
   "metadata": {
    "_cell_guid": "dee23d93-cd50-477a-8e02-ab78980f6027",
    "_uuid": "bd464846-f789-41d4-840a-aa46fb3867eb",
    "collapsed": false,
    "execution": {
     "iopub.execute_input": "2023-07-05T18:19:27.171456Z",
     "iopub.status.busy": "2023-07-05T18:19:27.170608Z",
     "iopub.status.idle": "2023-07-05T18:19:27.550639Z",
     "shell.execute_reply": "2023-07-05T18:19:27.549660Z"
    },
    "jupyter": {
     "outputs_hidden": false
    },
    "papermill": {
     "duration": 0.402279,
     "end_time": "2023-07-05T18:19:27.553776",
     "exception": false,
     "start_time": "2023-07-05T18:19:27.151497",
     "status": "completed"
    },
    "tags": []
   },
   "outputs": [],
   "source": [
    "from kaggle_secrets import UserSecretsClient\n",
    "user_secrets = UserSecretsClient()\n",
    "secret_value_2 = user_secrets.get_secret(\"CHARTSTUDIO_API_KEY\")\n",
    "secret_value_3 = user_secrets.get_secret(\"CHARTSTUDIO_BCRA_API_KEY\")"
   ]
  },
  {
   "cell_type": "code",
   "execution_count": 23,
   "id": "a8c53147",
   "metadata": {
    "_cell_guid": "e88169c2-7feb-4962-80cc-239afb678227",
    "_uuid": "d4a50025-2388-44d4-b1a0-11186ecbf90b",
    "collapsed": false,
    "execution": {
     "iopub.execute_input": "2023-07-05T18:19:27.591308Z",
     "iopub.status.busy": "2023-07-05T18:19:27.590559Z",
     "iopub.status.idle": "2023-07-05T18:19:30.323854Z",
     "shell.execute_reply": "2023-07-05T18:19:30.322487Z"
    },
    "jupyter": {
     "outputs_hidden": false
    },
    "papermill": {
     "duration": 2.754817,
     "end_time": "2023-07-05T18:19:30.326627",
     "exception": false,
     "start_time": "2023-07-05T18:19:27.571810",
     "status": "completed"
    },
    "tags": []
   },
   "outputs": [
    {
     "data": {
      "text/plain": [
       "'https://plotly.com/~emigiupponi/68/'"
      ]
     },
     "execution_count": 23,
     "metadata": {},
     "output_type": "execute_result"
    }
   ],
   "source": [
    "chart_studio.tools.set_credentials_file(username='emigiupponi', \n",
    "                                        api_key=secret_value_2)\n",
    "py.plot(fig, filename = 'arg-prices', auto_open=True)"
   ]
  },
  {
   "cell_type": "code",
   "execution_count": 24,
   "id": "cd861176",
   "metadata": {
    "_cell_guid": "6d747586-a8c0-4f41-9f31-a1bdf41e0e85",
    "_uuid": "2504ac4d-7a27-4a78-9dcd-b5f807569e25",
    "collapsed": false,
    "execution": {
     "iopub.execute_input": "2023-07-05T18:19:30.365138Z",
     "iopub.status.busy": "2023-07-05T18:19:30.364166Z",
     "iopub.status.idle": "2023-07-05T18:19:32.931286Z",
     "shell.execute_reply": "2023-07-05T18:19:32.929989Z"
    },
    "jupyter": {
     "outputs_hidden": false
    },
    "papermill": {
     "duration": 2.590617,
     "end_time": "2023-07-05T18:19:32.934535",
     "exception": false,
     "start_time": "2023-07-05T18:19:30.343918",
     "status": "completed"
    },
    "tags": []
   },
   "outputs": [
    {
     "data": {
      "text/plain": [
       "'https://plotly.com/~crypto-financial-stability-monitor/33/'"
      ]
     },
     "execution_count": 24,
     "metadata": {},
     "output_type": "execute_result"
    }
   ],
   "source": [
    "chart_studio.tools.set_credentials_file(username='crypto-financial-stability-monitor', \n",
    "                                        api_key=secret_value_3)\n",
    "py.plot(fig, filename = 'arg-prices', auto_open=True)"
   ]
  },
  {
   "cell_type": "code",
   "execution_count": 25,
   "id": "da4a13a1",
   "metadata": {
    "execution": {
     "iopub.execute_input": "2023-07-05T18:19:32.973926Z",
     "iopub.status.busy": "2023-07-05T18:19:32.973432Z",
     "iopub.status.idle": "2023-07-05T18:19:35.556456Z",
     "shell.execute_reply": "2023-07-05T18:19:35.554623Z"
    },
    "papermill": {
     "duration": 2.606929,
     "end_time": "2023-07-05T18:19:35.560022",
     "exception": false,
     "start_time": "2023-07-05T18:19:32.953093",
     "status": "completed"
    },
    "tags": []
   },
   "outputs": [
    {
     "data": {
      "text/plain": [
       "'https://plotly.com/~crypto-financial-stability-monitor/282/'"
      ]
     },
     "execution_count": 25,
     "metadata": {},
     "output_type": "execute_result"
    }
   ],
   "source": [
    "chart_studio.tools.set_credentials_file(username='crypto-financial-stability-monitor', \n",
    "                                        api_key=secret_value_3)\n",
    "py.plot(fig3, filename = 'arg-prices-times-series', auto_open=True)"
   ]
  }
 ],
 "metadata": {
  "kernelspec": {
   "display_name": "Python 3",
   "language": "python",
   "name": "python3"
  },
  "language_info": {
   "codemirror_mode": {
    "name": "ipython",
    "version": 3
   },
   "file_extension": ".py",
   "mimetype": "text/x-python",
   "name": "python",
   "nbconvert_exporter": "python",
   "pygments_lexer": "ipython3",
   "version": "3.7.12"
  },
  "papermill": {
   "default_parameters": {},
   "duration": 47.1258,
   "end_time": "2023-07-05T18:19:36.511768",
   "environment_variables": {},
   "exception": null,
   "input_path": "__notebook__.ipynb",
   "output_path": "__notebook__.ipynb",
   "parameters": {},
   "start_time": "2023-07-05T18:18:49.385968",
   "version": "2.3.4"
  }
 },
 "nbformat": 4,
 "nbformat_minor": 5
}
