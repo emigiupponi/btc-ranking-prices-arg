{
 "cells": [
  {
   "cell_type": "markdown",
   "id": "ceda0858",
   "metadata": {
    "_cell_guid": "b7789d46-ac8a-444d-8f31-48caf94d9e8b",
    "_uuid": "4eec6c4a-bffb-41d7-932d-037b670f2736",
    "papermill": {
     "duration": 0.007014,
     "end_time": "2023-06-14T14:40:46.385210",
     "exception": false,
     "start_time": "2023-06-14T14:40:46.378196",
     "status": "completed"
    },
    "tags": []
   },
   "source": [
    "https://www.nylas.com/blog/use-python-requests-module-rest-apis/"
   ]
  },
  {
   "cell_type": "markdown",
   "id": "c8c4610c",
   "metadata": {
    "_cell_guid": "86c603c1-3d64-4fcd-b6bc-6069dc49c099",
    "_uuid": "2b6bc967-294a-44a6-9539-9e2239146fec",
    "papermill": {
     "duration": 0.005567,
     "end_time": "2023-06-14T14:40:46.396758",
     "exception": false,
     "start_time": "2023-06-14T14:40:46.391191",
     "status": "completed"
    },
    "tags": []
   },
   "source": [
    "# Ranking of the final prices -including commissions- of the principal brokers or exchanges of interest in argentina"
   ]
  },
  {
   "cell_type": "markdown",
   "id": "988387a9",
   "metadata": {
    "papermill": {
     "duration": 0.005635,
     "end_time": "2023-06-14T14:40:46.408675",
     "exception": false,
     "start_time": "2023-06-14T14:40:46.403040",
     "status": "completed"
    },
    "tags": []
   },
   "source": [
    "Day information with graph"
   ]
  },
  {
   "cell_type": "code",
   "execution_count": 1,
   "id": "c8f55a54",
   "metadata": {
    "_cell_guid": "5ffbab7e-6983-42d9-9f0d-c37382fef782",
    "_uuid": "74dcb180-586b-411a-8610-8fc4e531f295",
    "collapsed": false,
    "execution": {
     "iopub.execute_input": "2023-06-14T14:40:46.424290Z",
     "iopub.status.busy": "2023-06-14T14:40:46.423374Z",
     "iopub.status.idle": "2023-06-14T14:40:46.429766Z",
     "shell.execute_reply": "2023-06-14T14:40:46.428808Z"
    },
    "jupyter": {
     "outputs_hidden": false
    },
    "papermill": {
     "duration": 0.016881,
     "end_time": "2023-06-14T14:40:46.431794",
     "exception": false,
     "start_time": "2023-06-14T14:40:46.414913",
     "status": "completed"
    },
    "tags": []
   },
   "outputs": [],
   "source": [
    "#pip install requests"
   ]
  },
  {
   "cell_type": "code",
   "execution_count": 2,
   "id": "f91e4909",
   "metadata": {
    "_cell_guid": "b42749bf-dc5a-4153-ada1-17853664c394",
    "_uuid": "253c43a8-3a67-401d-b0a6-a19ab830c558",
    "collapsed": false,
    "execution": {
     "iopub.execute_input": "2023-06-14T14:40:46.445288Z",
     "iopub.status.busy": "2023-06-14T14:40:46.444854Z",
     "iopub.status.idle": "2023-06-14T14:40:46.454980Z",
     "shell.execute_reply": "2023-06-14T14:40:46.453261Z"
    },
    "jupyter": {
     "outputs_hidden": false
    },
    "papermill": {
     "duration": 0.0206,
     "end_time": "2023-06-14T14:40:46.458443",
     "exception": false,
     "start_time": "2023-06-14T14:40:46.437843",
     "status": "completed"
    },
    "tags": []
   },
   "outputs": [],
   "source": [
    "import requests\n",
    "from datetime import date, datetime, timedelta\n",
    "import pandas as pd\n",
    "import numpy as np"
   ]
  },
  {
   "cell_type": "code",
   "execution_count": 3,
   "id": "2e37c95f",
   "metadata": {
    "_cell_guid": "d24e4500-97ac-4f77-b7c3-87b118ab5d08",
    "_uuid": "ee752bcc-665c-491b-af7e-3c81017f397b",
    "collapsed": false,
    "execution": {
     "iopub.execute_input": "2023-06-14T14:40:46.473225Z",
     "iopub.status.busy": "2023-06-14T14:40:46.472733Z",
     "iopub.status.idle": "2023-06-14T14:40:46.913127Z",
     "shell.execute_reply": "2023-06-14T14:40:46.912045Z"
    },
    "jupyter": {
     "outputs_hidden": false
    },
    "papermill": {
     "duration": 0.45047,
     "end_time": "2023-06-14T14:40:46.915325",
     "exception": false,
     "start_time": "2023-06-14T14:40:46.464855",
     "status": "completed"
    },
    "tags": []
   },
   "outputs": [
    {
     "name": "stdout",
     "output_type": "stream",
     "text": [
      "<Response [200]>\n"
     ]
    }
   ],
   "source": [
    "response = requests.get('https://criptoya.com/api/btc/ars/0.1')\n",
    "print(response)"
   ]
  },
  {
   "cell_type": "code",
   "execution_count": 4,
   "id": "703d8926",
   "metadata": {
    "_cell_guid": "c3c2edaf-4238-42dd-ac78-199dcba014eb",
    "_uuid": "231ed5a4-1acc-4ab5-8821-8da61faf9a9c",
    "collapsed": false,
    "execution": {
     "iopub.execute_input": "2023-06-14T14:40:46.930976Z",
     "iopub.status.busy": "2023-06-14T14:40:46.929772Z",
     "iopub.status.idle": "2023-06-14T14:40:46.941237Z",
     "shell.execute_reply": "2023-06-14T14:40:46.939590Z"
    },
    "jupyter": {
     "outputs_hidden": false
    },
    "papermill": {
     "duration": 0.022424,
     "end_time": "2023-06-14T14:40:46.943661",
     "exception": false,
     "start_time": "2023-06-14T14:40:46.921237",
     "status": "completed"
    },
    "tags": []
   },
   "outputs": [],
   "source": [
    "json = response.json()\n",
    "df = pd.DataFrame(json)"
   ]
  },
  {
   "cell_type": "code",
   "execution_count": 5,
   "id": "0fbec884",
   "metadata": {
    "execution": {
     "iopub.execute_input": "2023-06-14T14:40:46.960277Z",
     "iopub.status.busy": "2023-06-14T14:40:46.959621Z",
     "iopub.status.idle": "2023-06-14T14:40:47.000472Z",
     "shell.execute_reply": "2023-06-14T14:40:46.999651Z"
    },
    "papermill": {
     "duration": 0.050649,
     "end_time": "2023-06-14T14:40:47.002358",
     "exception": false,
     "start_time": "2023-06-14T14:40:46.951709",
     "status": "completed"
    },
    "tags": []
   },
   "outputs": [
    {
     "data": {
      "text/html": [
       "<div>\n",
       "<style scoped>\n",
       "    .dataframe tbody tr th:only-of-type {\n",
       "        vertical-align: middle;\n",
       "    }\n",
       "\n",
       "    .dataframe tbody tr th {\n",
       "        vertical-align: top;\n",
       "    }\n",
       "\n",
       "    .dataframe thead th {\n",
       "        text-align: right;\n",
       "    }\n",
       "</style>\n",
       "<table border=\"1\" class=\"dataframe\">\n",
       "  <thead>\n",
       "    <tr style=\"text-align: right;\">\n",
       "      <th></th>\n",
       "      <th>argenbtc</th>\n",
       "      <th>buenbit</th>\n",
       "      <th>ripio</th>\n",
       "      <th>ripioexchange</th>\n",
       "      <th>satoshitango</th>\n",
       "      <th>cryptomkt</th>\n",
       "      <th>decrypto</th>\n",
       "      <th>latamex</th>\n",
       "      <th>bitso</th>\n",
       "      <th>letsbit</th>\n",
       "      <th>fiwind</th>\n",
       "      <th>lemoncash</th>\n",
       "      <th>bitmonedero</th>\n",
       "      <th>belo</th>\n",
       "      <th>tiendacrypto</th>\n",
       "      <th>saldo</th>\n",
       "      <th>kriptonmarket</th>\n",
       "      <th>calypso</th>\n",
       "      <th>bybit</th>\n",
       "      <th>binance</th>\n",
       "    </tr>\n",
       "  </thead>\n",
       "  <tbody>\n",
       "    <tr>\n",
       "      <th>ask</th>\n",
       "      <td>1.281701e+07</td>\n",
       "      <td>12960500</td>\n",
       "      <td>1.310327e+07</td>\n",
       "      <td>1.387223e+07</td>\n",
       "      <td>1.313422e+07</td>\n",
       "      <td>1.279405e+07</td>\n",
       "      <td>1.285576e+07</td>\n",
       "      <td>1.279672e+07</td>\n",
       "      <td>1.294286e+07</td>\n",
       "      <td>1.296073e+07</td>\n",
       "      <td>1.283175e+07</td>\n",
       "      <td>1.285046e+07</td>\n",
       "      <td>1.342771e+07</td>\n",
       "      <td>1.300750e+07</td>\n",
       "      <td>1.288213e+07</td>\n",
       "      <td>1.372743e+07</td>\n",
       "      <td>1.304563e+07</td>\n",
       "      <td>1.303160e+07</td>\n",
       "      <td>1.300216e+07</td>\n",
       "      <td>1.293868e+07</td>\n",
       "    </tr>\n",
       "    <tr>\n",
       "      <th>totalAsk</th>\n",
       "      <td>1.281701e+07</td>\n",
       "      <td>12960500</td>\n",
       "      <td>1.316878e+07</td>\n",
       "      <td>1.394160e+07</td>\n",
       "      <td>1.326557e+07</td>\n",
       "      <td>1.288240e+07</td>\n",
       "      <td>1.290075e+07</td>\n",
       "      <td>1.298867e+07</td>\n",
       "      <td>1.302052e+07</td>\n",
       "      <td>1.296073e+07</td>\n",
       "      <td>1.296007e+07</td>\n",
       "      <td>1.297896e+07</td>\n",
       "      <td>1.342771e+07</td>\n",
       "      <td>1.300750e+07</td>\n",
       "      <td>1.288213e+07</td>\n",
       "      <td>1.372743e+07</td>\n",
       "      <td>1.325034e+07</td>\n",
       "      <td>1.303160e+07</td>\n",
       "      <td>1.300216e+07</td>\n",
       "      <td>1.293868e+07</td>\n",
       "    </tr>\n",
       "    <tr>\n",
       "      <th>bid</th>\n",
       "      <td>1.255752e+07</td>\n",
       "      <td>12832100</td>\n",
       "      <td>1.233396e+07</td>\n",
       "      <td>1.003794e+07</td>\n",
       "      <td>1.236299e+07</td>\n",
       "      <td>1.260143e+07</td>\n",
       "      <td>1.246540e+07</td>\n",
       "      <td>1.272424e+07</td>\n",
       "      <td>1.282590e+07</td>\n",
       "      <td>1.272635e+07</td>\n",
       "      <td>1.295955e+07</td>\n",
       "      <td>1.266836e+07</td>\n",
       "      <td>1.221722e+07</td>\n",
       "      <td>1.254382e+07</td>\n",
       "      <td>1.249176e+07</td>\n",
       "      <td>1.248870e+07</td>\n",
       "      <td>1.228569e+07</td>\n",
       "      <td>1.159794e+07</td>\n",
       "      <td>1.255834e+07</td>\n",
       "      <td>1.279055e+07</td>\n",
       "    </tr>\n",
       "    <tr>\n",
       "      <th>totalBid</th>\n",
       "      <td>1.255752e+07</td>\n",
       "      <td>12832100</td>\n",
       "      <td>1.227229e+07</td>\n",
       "      <td>9.987753e+06</td>\n",
       "      <td>1.223936e+07</td>\n",
       "      <td>1.251454e+07</td>\n",
       "      <td>1.242177e+07</td>\n",
       "      <td>1.259700e+07</td>\n",
       "      <td>1.274895e+07</td>\n",
       "      <td>1.272635e+07</td>\n",
       "      <td>1.282995e+07</td>\n",
       "      <td>1.260502e+07</td>\n",
       "      <td>1.203396e+07</td>\n",
       "      <td>1.254382e+07</td>\n",
       "      <td>1.249176e+07</td>\n",
       "      <td>1.248870e+07</td>\n",
       "      <td>1.209571e+07</td>\n",
       "      <td>1.159794e+07</td>\n",
       "      <td>1.255834e+07</td>\n",
       "      <td>1.279055e+07</td>\n",
       "    </tr>\n",
       "    <tr>\n",
       "      <th>time</th>\n",
       "      <td>1.686754e+09</td>\n",
       "      <td>1686753637</td>\n",
       "      <td>1.686754e+09</td>\n",
       "      <td>1.686754e+09</td>\n",
       "      <td>1.686754e+09</td>\n",
       "      <td>1.686754e+09</td>\n",
       "      <td>1.686754e+09</td>\n",
       "      <td>1.686754e+09</td>\n",
       "      <td>1.686754e+09</td>\n",
       "      <td>1.686754e+09</td>\n",
       "      <td>1.686754e+09</td>\n",
       "      <td>1.686754e+09</td>\n",
       "      <td>1.686754e+09</td>\n",
       "      <td>1.686754e+09</td>\n",
       "      <td>1.686754e+09</td>\n",
       "      <td>1.686754e+09</td>\n",
       "      <td>1.686754e+09</td>\n",
       "      <td>1.686754e+09</td>\n",
       "      <td>1.686754e+09</td>\n",
       "      <td>1.686754e+09</td>\n",
       "    </tr>\n",
       "  </tbody>\n",
       "</table>\n",
       "</div>"
      ],
      "text/plain": [
       "              argenbtc     buenbit         ripio  ripioexchange  satoshitango  \\\n",
       "ask       1.281701e+07    12960500  1.310327e+07   1.387223e+07  1.313422e+07   \n",
       "totalAsk  1.281701e+07    12960500  1.316878e+07   1.394160e+07  1.326557e+07   \n",
       "bid       1.255752e+07    12832100  1.233396e+07   1.003794e+07  1.236299e+07   \n",
       "totalBid  1.255752e+07    12832100  1.227229e+07   9.987753e+06  1.223936e+07   \n",
       "time      1.686754e+09  1686753637  1.686754e+09   1.686754e+09  1.686754e+09   \n",
       "\n",
       "             cryptomkt      decrypto       latamex         bitso  \\\n",
       "ask       1.279405e+07  1.285576e+07  1.279672e+07  1.294286e+07   \n",
       "totalAsk  1.288240e+07  1.290075e+07  1.298867e+07  1.302052e+07   \n",
       "bid       1.260143e+07  1.246540e+07  1.272424e+07  1.282590e+07   \n",
       "totalBid  1.251454e+07  1.242177e+07  1.259700e+07  1.274895e+07   \n",
       "time      1.686754e+09  1.686754e+09  1.686754e+09  1.686754e+09   \n",
       "\n",
       "               letsbit        fiwind     lemoncash   bitmonedero  \\\n",
       "ask       1.296073e+07  1.283175e+07  1.285046e+07  1.342771e+07   \n",
       "totalAsk  1.296073e+07  1.296007e+07  1.297896e+07  1.342771e+07   \n",
       "bid       1.272635e+07  1.295955e+07  1.266836e+07  1.221722e+07   \n",
       "totalBid  1.272635e+07  1.282995e+07  1.260502e+07  1.203396e+07   \n",
       "time      1.686754e+09  1.686754e+09  1.686754e+09  1.686754e+09   \n",
       "\n",
       "                  belo  tiendacrypto         saldo  kriptonmarket  \\\n",
       "ask       1.300750e+07  1.288213e+07  1.372743e+07   1.304563e+07   \n",
       "totalAsk  1.300750e+07  1.288213e+07  1.372743e+07   1.325034e+07   \n",
       "bid       1.254382e+07  1.249176e+07  1.248870e+07   1.228569e+07   \n",
       "totalBid  1.254382e+07  1.249176e+07  1.248870e+07   1.209571e+07   \n",
       "time      1.686754e+09  1.686754e+09  1.686754e+09   1.686754e+09   \n",
       "\n",
       "               calypso         bybit       binance  \n",
       "ask       1.303160e+07  1.300216e+07  1.293868e+07  \n",
       "totalAsk  1.303160e+07  1.300216e+07  1.293868e+07  \n",
       "bid       1.159794e+07  1.255834e+07  1.279055e+07  \n",
       "totalBid  1.159794e+07  1.255834e+07  1.279055e+07  \n",
       "time      1.686754e+09  1.686754e+09  1.686754e+09  "
      ]
     },
     "execution_count": 5,
     "metadata": {},
     "output_type": "execute_result"
    }
   ],
   "source": [
    "df"
   ]
  },
  {
   "cell_type": "code",
   "execution_count": 6,
   "id": "69a2ce26",
   "metadata": {
    "execution": {
     "iopub.execute_input": "2023-06-14T14:40:47.016687Z",
     "iopub.status.busy": "2023-06-14T14:40:47.016068Z",
     "iopub.status.idle": "2023-06-14T14:40:47.023669Z",
     "shell.execute_reply": "2023-06-14T14:40:47.022287Z"
    },
    "papermill": {
     "duration": 0.017662,
     "end_time": "2023-06-14T14:40:47.026351",
     "exception": false,
     "start_time": "2023-06-14T14:40:47.008689",
     "status": "completed"
    },
    "tags": []
   },
   "outputs": [],
   "source": [
    "df_transposed = df.T"
   ]
  },
  {
   "cell_type": "code",
   "execution_count": 7,
   "id": "3f4cbeb3",
   "metadata": {
    "_cell_guid": "78dad479-8df4-47c1-b55b-367b69cca1ad",
    "_uuid": "4731ad25-06b0-4cbc-a5b5-354b86bfbeb1",
    "collapsed": false,
    "execution": {
     "iopub.execute_input": "2023-06-14T14:40:47.041619Z",
     "iopub.status.busy": "2023-06-14T14:40:47.040951Z",
     "iopub.status.idle": "2023-06-14T14:40:47.046807Z",
     "shell.execute_reply": "2023-06-14T14:40:47.045116Z"
    },
    "jupyter": {
     "outputs_hidden": false
    },
    "papermill": {
     "duration": 0.016403,
     "end_time": "2023-06-14T14:40:47.049348",
     "exception": false,
     "start_time": "2023-06-14T14:40:47.032945",
     "status": "completed"
    },
    "tags": []
   },
   "outputs": [],
   "source": [
    "df_transposed.columns = ['Buying', 'Buying (final)', 'Selling', 'Selling (final)', 'Timestamp']"
   ]
  },
  {
   "cell_type": "code",
   "execution_count": 8,
   "id": "081674a6",
   "metadata": {
    "_cell_guid": "6e790a34-d9e7-4a06-8047-ff0c8dc54f7f",
    "_uuid": "5bffe249-81b5-430a-9559-a2b33cea4da3",
    "collapsed": false,
    "execution": {
     "iopub.execute_input": "2023-06-14T14:40:47.064025Z",
     "iopub.status.busy": "2023-06-14T14:40:47.063589Z",
     "iopub.status.idle": "2023-06-14T14:40:47.074004Z",
     "shell.execute_reply": "2023-06-14T14:40:47.072193Z"
    },
    "jupyter": {
     "outputs_hidden": false
    },
    "papermill": {
     "duration": 0.0205,
     "end_time": "2023-06-14T14:40:47.076465",
     "exception": false,
     "start_time": "2023-06-14T14:40:47.055965",
     "status": "completed"
    },
    "tags": []
   },
   "outputs": [],
   "source": [
    "df_transposed['spread'] = df_transposed[\"Buying (final)\"] - df_transposed[\"Selling (final)\"]"
   ]
  },
  {
   "cell_type": "code",
   "execution_count": 9,
   "id": "52ff34a8",
   "metadata": {
    "_cell_guid": "5e688235-5c6d-406a-99b7-c5638ed7ffe0",
    "_uuid": "f9129ac9-c8eb-4d37-968e-d5d51f639913",
    "collapsed": false,
    "execution": {
     "iopub.execute_input": "2023-06-14T14:40:47.091306Z",
     "iopub.status.busy": "2023-06-14T14:40:47.090735Z",
     "iopub.status.idle": "2023-06-14T14:40:47.134023Z",
     "shell.execute_reply": "2023-06-14T14:40:47.132706Z"
    },
    "jupyter": {
     "outputs_hidden": false
    },
    "papermill": {
     "duration": 0.053072,
     "end_time": "2023-06-14T14:40:47.136557",
     "exception": false,
     "start_time": "2023-06-14T14:40:47.083485",
     "status": "completed"
    },
    "tags": []
   },
   "outputs": [],
   "source": [
    "import requests\n",
    "import plotly.graph_objects as go\n",
    "from plotly.subplots import make_subplots"
   ]
  },
  {
   "cell_type": "code",
   "execution_count": 10,
   "id": "eed830fb",
   "metadata": {
    "_cell_guid": "b7e9fdeb-f052-4153-8bb1-16d7fc8a40d2",
    "_uuid": "0450f0aa-f0b1-4771-b68c-95ea54d32705",
    "collapsed": false,
    "execution": {
     "iopub.execute_input": "2023-06-14T14:40:47.153523Z",
     "iopub.status.busy": "2023-06-14T14:40:47.152806Z",
     "iopub.status.idle": "2023-06-14T14:40:47.510220Z",
     "shell.execute_reply": "2023-06-14T14:40:47.508440Z"
    },
    "jupyter": {
     "outputs_hidden": false
    },
    "papermill": {
     "duration": 0.367959,
     "end_time": "2023-06-14T14:40:47.512523",
     "exception": false,
     "start_time": "2023-06-14T14:40:47.144564",
     "status": "completed"
    },
    "tags": []
   },
   "outputs": [
    {
     "data": {
      "text/html": [
       "        <script type=\"text/javascript\">\n",
       "        window.PlotlyConfig = {MathJaxConfig: 'local'};\n",
       "        if (window.MathJax && window.MathJax.Hub && window.MathJax.Hub.Config) {window.MathJax.Hub.Config({SVG: {font: \"STIX-Web\"}});}\n",
       "        if (typeof require !== 'undefined') {\n",
       "        require.undef(\"plotly\");\n",
       "        requirejs.config({\n",
       "            paths: {\n",
       "                'plotly': ['https://cdn.plot.ly/plotly-2.14.0.min']\n",
       "            }\n",
       "        });\n",
       "        require(['plotly'], function(Plotly) {\n",
       "            window._Plotly = Plotly;\n",
       "        });\n",
       "        }\n",
       "        </script>\n",
       "        "
      ]
     },
     "metadata": {},
     "output_type": "display_data"
    },
    {
     "data": {
      "text/html": [
       "<div>                            <div id=\"2a996b5e-cb89-4c9c-8078-7c85dfcfc59b\" class=\"plotly-graph-div\" style=\"height:525px; width:100%;\"></div>            <script type=\"text/javascript\">                require([\"plotly\"], function(Plotly) {                    window.PLOTLYENV=window.PLOTLYENV || {};                                    if (document.getElementById(\"2a996b5e-cb89-4c9c-8078-7c85dfcfc59b\")) {                    Plotly.newPlot(                        \"2a996b5e-cb89-4c9c-8078-7c85dfcfc59b\",                        [{\"x\":[\"argenbtc\",\"buenbit\",\"ripio\",\"ripioexchange\",\"satoshitango\",\"cryptomkt\",\"decrypto\",\"latamex\",\"bitso\",\"letsbit\",\"fiwind\",\"lemoncash\",\"bitmonedero\",\"belo\",\"tiendacrypto\",\"saldo\",\"kriptonmarket\",\"calypso\",\"bybit\",\"binance\"],\"y\":[12557517.0,12832100.0,12272293.45,9987752.75,12239360.56,12514544.29,12421771.3,12596999.68,12748948.57,12726354.5,12829950.35,12605021.14,12033958.18,12543817.28,12491764.8,12488701.35,12095706.42,11597940.18,12558342.58,12790545.05],\"type\":\"scatter\",\"xaxis\":\"x\",\"yaxis\":\"y\"},{\"x\":[\"argenbtc\",\"buenbit\",\"ripio\",\"ripioexchange\",\"satoshitango\",\"cryptomkt\",\"decrypto\",\"latamex\",\"bitso\",\"letsbit\",\"fiwind\",\"lemoncash\",\"bitmonedero\",\"belo\",\"tiendacrypto\",\"saldo\",\"kriptonmarket\",\"calypso\",\"bybit\",\"binance\"],\"y\":[12817014.76,12960500.0,13168782.11,13941595.28,13265567.2,12882397.85,12900752.35,12988665.94,13020519.0,12960729.82,12960071.47,12978963.94,13427705.56,13007499.12,12882132.45,13727434.91,13250344.17,13031601.71,13002161.59,12938676.63],\"type\":\"scatter\",\"xaxis\":\"x\",\"yaxis\":\"y\"},{\"x\":[\"argenbtc\",\"buenbit\",\"ripio\",\"ripioexchange\",\"satoshitango\",\"cryptomkt\",\"decrypto\",\"latamex\",\"bitso\",\"letsbit\",\"fiwind\",\"lemoncash\",\"bitmonedero\",\"belo\",\"tiendacrypto\",\"saldo\",\"kriptonmarket\",\"calypso\",\"bybit\",\"binance\"],\"y\":[259497.75999999978,128400.0,896488.6600000001,3953842.5299999993,1026206.6399999987,367853.5600000005,478981.0499999989,391666.2599999998,271570.4299999997,234375.3200000003,130121.12000000104,373942.7999999989,1393747.3800000008,463681.83999999985,390367.6499999985,1238733.5600000005,1154637.75,1433661.5300000012,443819.0099999998,148131.58000000007],\"type\":\"scatter\",\"xaxis\":\"x2\",\"yaxis\":\"y2\"}],                        {\"template\":{\"data\":{\"histogram2dcontour\":[{\"type\":\"histogram2dcontour\",\"colorbar\":{\"outlinewidth\":0,\"ticks\":\"\"},\"colorscale\":[[0.0,\"#0d0887\"],[0.1111111111111111,\"#46039f\"],[0.2222222222222222,\"#7201a8\"],[0.3333333333333333,\"#9c179e\"],[0.4444444444444444,\"#bd3786\"],[0.5555555555555556,\"#d8576b\"],[0.6666666666666666,\"#ed7953\"],[0.7777777777777778,\"#fb9f3a\"],[0.8888888888888888,\"#fdca26\"],[1.0,\"#f0f921\"]]}],\"choropleth\":[{\"type\":\"choropleth\",\"colorbar\":{\"outlinewidth\":0,\"ticks\":\"\"}}],\"histogram2d\":[{\"type\":\"histogram2d\",\"colorbar\":{\"outlinewidth\":0,\"ticks\":\"\"},\"colorscale\":[[0.0,\"#0d0887\"],[0.1111111111111111,\"#46039f\"],[0.2222222222222222,\"#7201a8\"],[0.3333333333333333,\"#9c179e\"],[0.4444444444444444,\"#bd3786\"],[0.5555555555555556,\"#d8576b\"],[0.6666666666666666,\"#ed7953\"],[0.7777777777777778,\"#fb9f3a\"],[0.8888888888888888,\"#fdca26\"],[1.0,\"#f0f921\"]]}],\"heatmap\":[{\"type\":\"heatmap\",\"colorbar\":{\"outlinewidth\":0,\"ticks\":\"\"},\"colorscale\":[[0.0,\"#0d0887\"],[0.1111111111111111,\"#46039f\"],[0.2222222222222222,\"#7201a8\"],[0.3333333333333333,\"#9c179e\"],[0.4444444444444444,\"#bd3786\"],[0.5555555555555556,\"#d8576b\"],[0.6666666666666666,\"#ed7953\"],[0.7777777777777778,\"#fb9f3a\"],[0.8888888888888888,\"#fdca26\"],[1.0,\"#f0f921\"]]}],\"heatmapgl\":[{\"type\":\"heatmapgl\",\"colorbar\":{\"outlinewidth\":0,\"ticks\":\"\"},\"colorscale\":[[0.0,\"#0d0887\"],[0.1111111111111111,\"#46039f\"],[0.2222222222222222,\"#7201a8\"],[0.3333333333333333,\"#9c179e\"],[0.4444444444444444,\"#bd3786\"],[0.5555555555555556,\"#d8576b\"],[0.6666666666666666,\"#ed7953\"],[0.7777777777777778,\"#fb9f3a\"],[0.8888888888888888,\"#fdca26\"],[1.0,\"#f0f921\"]]}],\"contourcarpet\":[{\"type\":\"contourcarpet\",\"colorbar\":{\"outlinewidth\":0,\"ticks\":\"\"}}],\"contour\":[{\"type\":\"contour\",\"colorbar\":{\"outlinewidth\":0,\"ticks\":\"\"},\"colorscale\":[[0.0,\"#0d0887\"],[0.1111111111111111,\"#46039f\"],[0.2222222222222222,\"#7201a8\"],[0.3333333333333333,\"#9c179e\"],[0.4444444444444444,\"#bd3786\"],[0.5555555555555556,\"#d8576b\"],[0.6666666666666666,\"#ed7953\"],[0.7777777777777778,\"#fb9f3a\"],[0.8888888888888888,\"#fdca26\"],[1.0,\"#f0f921\"]]}],\"surface\":[{\"type\":\"surface\",\"colorbar\":{\"outlinewidth\":0,\"ticks\":\"\"},\"colorscale\":[[0.0,\"#0d0887\"],[0.1111111111111111,\"#46039f\"],[0.2222222222222222,\"#7201a8\"],[0.3333333333333333,\"#9c179e\"],[0.4444444444444444,\"#bd3786\"],[0.5555555555555556,\"#d8576b\"],[0.6666666666666666,\"#ed7953\"],[0.7777777777777778,\"#fb9f3a\"],[0.8888888888888888,\"#fdca26\"],[1.0,\"#f0f921\"]]}],\"mesh3d\":[{\"type\":\"mesh3d\",\"colorbar\":{\"outlinewidth\":0,\"ticks\":\"\"}}],\"scatter\":[{\"fillpattern\":{\"fillmode\":\"overlay\",\"size\":10,\"solidity\":0.2},\"type\":\"scatter\"}],\"parcoords\":[{\"type\":\"parcoords\",\"line\":{\"colorbar\":{\"outlinewidth\":0,\"ticks\":\"\"}}}],\"scatterpolargl\":[{\"type\":\"scatterpolargl\",\"marker\":{\"colorbar\":{\"outlinewidth\":0,\"ticks\":\"\"}}}],\"bar\":[{\"error_x\":{\"color\":\"#2a3f5f\"},\"error_y\":{\"color\":\"#2a3f5f\"},\"marker\":{\"line\":{\"color\":\"#E5ECF6\",\"width\":0.5},\"pattern\":{\"fillmode\":\"overlay\",\"size\":10,\"solidity\":0.2}},\"type\":\"bar\"}],\"scattergeo\":[{\"type\":\"scattergeo\",\"marker\":{\"colorbar\":{\"outlinewidth\":0,\"ticks\":\"\"}}}],\"scatterpolar\":[{\"type\":\"scatterpolar\",\"marker\":{\"colorbar\":{\"outlinewidth\":0,\"ticks\":\"\"}}}],\"histogram\":[{\"marker\":{\"pattern\":{\"fillmode\":\"overlay\",\"size\":10,\"solidity\":0.2}},\"type\":\"histogram\"}],\"scattergl\":[{\"type\":\"scattergl\",\"marker\":{\"colorbar\":{\"outlinewidth\":0,\"ticks\":\"\"}}}],\"scatter3d\":[{\"type\":\"scatter3d\",\"line\":{\"colorbar\":{\"outlinewidth\":0,\"ticks\":\"\"}},\"marker\":{\"colorbar\":{\"outlinewidth\":0,\"ticks\":\"\"}}}],\"scattermapbox\":[{\"type\":\"scattermapbox\",\"marker\":{\"colorbar\":{\"outlinewidth\":0,\"ticks\":\"\"}}}],\"scatterternary\":[{\"type\":\"scatterternary\",\"marker\":{\"colorbar\":{\"outlinewidth\":0,\"ticks\":\"\"}}}],\"scattercarpet\":[{\"type\":\"scattercarpet\",\"marker\":{\"colorbar\":{\"outlinewidth\":0,\"ticks\":\"\"}}}],\"carpet\":[{\"aaxis\":{\"endlinecolor\":\"#2a3f5f\",\"gridcolor\":\"white\",\"linecolor\":\"white\",\"minorgridcolor\":\"white\",\"startlinecolor\":\"#2a3f5f\"},\"baxis\":{\"endlinecolor\":\"#2a3f5f\",\"gridcolor\":\"white\",\"linecolor\":\"white\",\"minorgridcolor\":\"white\",\"startlinecolor\":\"#2a3f5f\"},\"type\":\"carpet\"}],\"table\":[{\"cells\":{\"fill\":{\"color\":\"#EBF0F8\"},\"line\":{\"color\":\"white\"}},\"header\":{\"fill\":{\"color\":\"#C8D4E3\"},\"line\":{\"color\":\"white\"}},\"type\":\"table\"}],\"barpolar\":[{\"marker\":{\"line\":{\"color\":\"#E5ECF6\",\"width\":0.5},\"pattern\":{\"fillmode\":\"overlay\",\"size\":10,\"solidity\":0.2}},\"type\":\"barpolar\"}],\"pie\":[{\"automargin\":true,\"type\":\"pie\"}]},\"layout\":{\"autotypenumbers\":\"strict\",\"colorway\":[\"#636efa\",\"#EF553B\",\"#00cc96\",\"#ab63fa\",\"#FFA15A\",\"#19d3f3\",\"#FF6692\",\"#B6E880\",\"#FF97FF\",\"#FECB52\"],\"font\":{\"color\":\"#2a3f5f\"},\"hovermode\":\"closest\",\"hoverlabel\":{\"align\":\"left\"},\"paper_bgcolor\":\"white\",\"plot_bgcolor\":\"#E5ECF6\",\"polar\":{\"bgcolor\":\"#E5ECF6\",\"angularaxis\":{\"gridcolor\":\"white\",\"linecolor\":\"white\",\"ticks\":\"\"},\"radialaxis\":{\"gridcolor\":\"white\",\"linecolor\":\"white\",\"ticks\":\"\"}},\"ternary\":{\"bgcolor\":\"#E5ECF6\",\"aaxis\":{\"gridcolor\":\"white\",\"linecolor\":\"white\",\"ticks\":\"\"},\"baxis\":{\"gridcolor\":\"white\",\"linecolor\":\"white\",\"ticks\":\"\"},\"caxis\":{\"gridcolor\":\"white\",\"linecolor\":\"white\",\"ticks\":\"\"}},\"coloraxis\":{\"colorbar\":{\"outlinewidth\":0,\"ticks\":\"\"}},\"colorscale\":{\"sequential\":[[0.0,\"#0d0887\"],[0.1111111111111111,\"#46039f\"],[0.2222222222222222,\"#7201a8\"],[0.3333333333333333,\"#9c179e\"],[0.4444444444444444,\"#bd3786\"],[0.5555555555555556,\"#d8576b\"],[0.6666666666666666,\"#ed7953\"],[0.7777777777777778,\"#fb9f3a\"],[0.8888888888888888,\"#fdca26\"],[1.0,\"#f0f921\"]],\"sequentialminus\":[[0.0,\"#0d0887\"],[0.1111111111111111,\"#46039f\"],[0.2222222222222222,\"#7201a8\"],[0.3333333333333333,\"#9c179e\"],[0.4444444444444444,\"#bd3786\"],[0.5555555555555556,\"#d8576b\"],[0.6666666666666666,\"#ed7953\"],[0.7777777777777778,\"#fb9f3a\"],[0.8888888888888888,\"#fdca26\"],[1.0,\"#f0f921\"]],\"diverging\":[[0,\"#8e0152\"],[0.1,\"#c51b7d\"],[0.2,\"#de77ae\"],[0.3,\"#f1b6da\"],[0.4,\"#fde0ef\"],[0.5,\"#f7f7f7\"],[0.6,\"#e6f5d0\"],[0.7,\"#b8e186\"],[0.8,\"#7fbc41\"],[0.9,\"#4d9221\"],[1,\"#276419\"]]},\"xaxis\":{\"gridcolor\":\"white\",\"linecolor\":\"white\",\"ticks\":\"\",\"title\":{\"standoff\":15},\"zerolinecolor\":\"white\",\"automargin\":true,\"zerolinewidth\":2},\"yaxis\":{\"gridcolor\":\"white\",\"linecolor\":\"white\",\"ticks\":\"\",\"title\":{\"standoff\":15},\"zerolinecolor\":\"white\",\"automargin\":true,\"zerolinewidth\":2},\"scene\":{\"xaxis\":{\"backgroundcolor\":\"#E5ECF6\",\"gridcolor\":\"white\",\"linecolor\":\"white\",\"showbackground\":true,\"ticks\":\"\",\"zerolinecolor\":\"white\",\"gridwidth\":2},\"yaxis\":{\"backgroundcolor\":\"#E5ECF6\",\"gridcolor\":\"white\",\"linecolor\":\"white\",\"showbackground\":true,\"ticks\":\"\",\"zerolinecolor\":\"white\",\"gridwidth\":2},\"zaxis\":{\"backgroundcolor\":\"#E5ECF6\",\"gridcolor\":\"white\",\"linecolor\":\"white\",\"showbackground\":true,\"ticks\":\"\",\"zerolinecolor\":\"white\",\"gridwidth\":2}},\"shapedefaults\":{\"line\":{\"color\":\"#2a3f5f\"}},\"annotationdefaults\":{\"arrowcolor\":\"#2a3f5f\",\"arrowhead\":0,\"arrowwidth\":1},\"geo\":{\"bgcolor\":\"white\",\"landcolor\":\"#E5ECF6\",\"subunitcolor\":\"white\",\"showland\":true,\"showlakes\":true,\"lakecolor\":\"white\"},\"title\":{\"x\":0.05},\"mapbox\":{\"style\":\"light\"}}},\"xaxis\":{\"anchor\":\"y\",\"domain\":[0.0,1.0],\"matches\":\"x2\",\"showticklabels\":false,\"rangeslider\":{\"visible\":false}},\"yaxis\":{\"anchor\":\"x\",\"domain\":[0.24555555555555558,1.0]},\"xaxis2\":{\"anchor\":\"y2\",\"domain\":[0.0,1.0]},\"yaxis2\":{\"anchor\":\"x2\",\"domain\":[0.0,0.21555555555555558]},\"annotations\":[{\"font\":{\"size\":16},\"showarrow\":false,\"text\":\"Prices\",\"x\":0.5,\"xanchor\":\"center\",\"xref\":\"paper\",\"y\":1.0,\"yanchor\":\"bottom\",\"yref\":\"paper\"},{\"font\":{\"size\":16},\"showarrow\":false,\"text\":\"Spread\",\"x\":0.5,\"xanchor\":\"center\",\"xref\":\"paper\",\"y\":0.21555555555555558,\"yanchor\":\"bottom\",\"yref\":\"paper\"}]},                        {\"responsive\": true}                    ).then(function(){\n",
       "                            \n",
       "var gd = document.getElementById('2a996b5e-cb89-4c9c-8078-7c85dfcfc59b');\n",
       "var x = new MutationObserver(function (mutations, observer) {{\n",
       "        var display = window.getComputedStyle(gd).display;\n",
       "        if (!display || display === 'none') {{\n",
       "            console.log([gd, 'removed!']);\n",
       "            Plotly.purge(gd);\n",
       "            observer.disconnect();\n",
       "        }}\n",
       "}});\n",
       "\n",
       "// Listen for the removal of the full notebook cells\n",
       "var notebookContainer = gd.closest('#notebook-container');\n",
       "if (notebookContainer) {{\n",
       "    x.observe(notebookContainer, {childList: true});\n",
       "}}\n",
       "\n",
       "// Listen for the clearing of the current output cell\n",
       "var outputEl = gd.closest('.output');\n",
       "if (outputEl) {{\n",
       "    x.observe(outputEl, {childList: true});\n",
       "}}\n",
       "\n",
       "                        })                };                });            </script>        </div>"
      ]
     },
     "metadata": {},
     "output_type": "display_data"
    }
   ],
   "source": [
    "# https://stackoverflow.com/questions/64689342/plotly-how-to-add-volume-to-a-candlestick-chart\n",
    "\n",
    "# Create subplots and mention plot grid size\n",
    "fig = make_subplots(rows=2, cols=1, shared_xaxes=True, \n",
    "               vertical_spacing=0.03, subplot_titles=('Prices', 'Spread'), \n",
    "               row_width=[0.2, 0.7])\n",
    "\n",
    "# Plot OHLC on 1st row\n",
    "\n",
    "# Add traces\n",
    "fig.add_trace(\n",
    "    go.Scatter(x=df_transposed.index, y=df_transposed['Selling (final)']),\n",
    "    row=1, col=1\n",
    ")\n",
    "\n",
    "# Add traces\n",
    "fig.add_trace(\n",
    "    go.Scatter(x=df_transposed.index, y=df_transposed['Buying (final)']),\n",
    "    row=1, col=1\n",
    ")\n",
    "\n",
    "# Bar trace for volumes on 2nd row without legend\n",
    "\n",
    "# Add traces\n",
    "fig.add_trace(\n",
    "    go.Scatter(x=df_transposed.index, y=df_transposed['spread']),\n",
    "    row=2, col=1\n",
    ")\n",
    "\n",
    "# Do not show OHLC's rangeslider plot \n",
    "fig.update(layout_xaxis_rangeslider_visible=False)\n",
    "fig.show()"
   ]
  },
  {
   "cell_type": "markdown",
   "id": "0224fd97",
   "metadata": {
    "papermill": {
     "duration": 0.006541,
     "end_time": "2023-06-14T14:40:47.526109",
     "exception": false,
     "start_time": "2023-06-14T14:40:47.519568",
     "status": "completed"
    },
    "tags": []
   },
   "source": [
    "# Building an historical serie day by day"
   ]
  },
  {
   "cell_type": "code",
   "execution_count": 11,
   "id": "29f02747",
   "metadata": {
    "execution": {
     "iopub.execute_input": "2023-06-14T14:40:47.541421Z",
     "iopub.status.busy": "2023-06-14T14:40:47.540767Z",
     "iopub.status.idle": "2023-06-14T14:40:47.889198Z",
     "shell.execute_reply": "2023-06-14T14:40:47.887686Z"
    },
    "papermill": {
     "duration": 0.359115,
     "end_time": "2023-06-14T14:40:47.891784",
     "exception": false,
     "start_time": "2023-06-14T14:40:47.532669",
     "status": "completed"
    },
    "tags": []
   },
   "outputs": [],
   "source": [
    "import requests\n",
    "import pandas as pd\n",
    "from datetime import date\n",
    "import os\n",
    "\n",
    "# Definir la URL de la API y realizar la solicitud\n",
    "url = \"https://criptoya.com/api/btc/ars/0.1\"\n",
    "response = requests.get(url)\n",
    "json_data = response.json()\n",
    "\n",
    "# Extraer los campos relevantes y crear un diccionario de precios\n",
    "platform_prices = {}\n",
    "for platform, data in json_data.items():\n",
    "    platform_prices[platform] = {\n",
    "        'totalAsk': data['totalAsk'],\n",
    "        'totalBid': data['totalBid']\n",
    "    }\n",
    "\n",
    "# Crear un DataFrame y agregar una columna con la fecha actual\n",
    "df = pd.DataFrame(platform_prices).T\n",
    "df['date'] = date.today()\n",
    "\n",
    "# Guardar el DataFrame en una tabla o archivo CSV\n",
    "df.to_csv('tabla.csv', index=True, mode='a', header=not os.path.exists('tabla.csv'))"
   ]
  },
  {
   "cell_type": "code",
   "execution_count": 12,
   "id": "81fb4c54",
   "metadata": {
    "execution": {
     "iopub.execute_input": "2023-06-14T14:40:47.906992Z",
     "iopub.status.busy": "2023-06-14T14:40:47.906507Z",
     "iopub.status.idle": "2023-06-14T14:40:47.922199Z",
     "shell.execute_reply": "2023-06-14T14:40:47.920678Z"
    },
    "papermill": {
     "duration": 0.026656,
     "end_time": "2023-06-14T14:40:47.925035",
     "exception": false,
     "start_time": "2023-06-14T14:40:47.898379",
     "status": "completed"
    },
    "tags": []
   },
   "outputs": [
    {
     "data": {
      "text/html": [
       "<div>\n",
       "<style scoped>\n",
       "    .dataframe tbody tr th:only-of-type {\n",
       "        vertical-align: middle;\n",
       "    }\n",
       "\n",
       "    .dataframe tbody tr th {\n",
       "        vertical-align: top;\n",
       "    }\n",
       "\n",
       "    .dataframe thead th {\n",
       "        text-align: right;\n",
       "    }\n",
       "</style>\n",
       "<table border=\"1\" class=\"dataframe\">\n",
       "  <thead>\n",
       "    <tr style=\"text-align: right;\">\n",
       "      <th></th>\n",
       "      <th>totalAsk</th>\n",
       "      <th>totalBid</th>\n",
       "      <th>date</th>\n",
       "    </tr>\n",
       "  </thead>\n",
       "  <tbody>\n",
       "    <tr>\n",
       "      <th>argenbtc</th>\n",
       "      <td>12817014.76</td>\n",
       "      <td>12557517.00</td>\n",
       "      <td>2023-06-14</td>\n",
       "    </tr>\n",
       "    <tr>\n",
       "      <th>buenbit</th>\n",
       "      <td>12960500.00</td>\n",
       "      <td>12832100.00</td>\n",
       "      <td>2023-06-14</td>\n",
       "    </tr>\n",
       "    <tr>\n",
       "      <th>ripio</th>\n",
       "      <td>13168782.11</td>\n",
       "      <td>12272293.45</td>\n",
       "      <td>2023-06-14</td>\n",
       "    </tr>\n",
       "    <tr>\n",
       "      <th>ripioexchange</th>\n",
       "      <td>13941595.28</td>\n",
       "      <td>9987752.75</td>\n",
       "      <td>2023-06-14</td>\n",
       "    </tr>\n",
       "    <tr>\n",
       "      <th>satoshitango</th>\n",
       "      <td>13265567.20</td>\n",
       "      <td>12239360.56</td>\n",
       "      <td>2023-06-14</td>\n",
       "    </tr>\n",
       "    <tr>\n",
       "      <th>cryptomkt</th>\n",
       "      <td>12882397.85</td>\n",
       "      <td>12514544.29</td>\n",
       "      <td>2023-06-14</td>\n",
       "    </tr>\n",
       "    <tr>\n",
       "      <th>decrypto</th>\n",
       "      <td>12900752.35</td>\n",
       "      <td>12421771.30</td>\n",
       "      <td>2023-06-14</td>\n",
       "    </tr>\n",
       "    <tr>\n",
       "      <th>latamex</th>\n",
       "      <td>12988665.94</td>\n",
       "      <td>12596999.68</td>\n",
       "      <td>2023-06-14</td>\n",
       "    </tr>\n",
       "    <tr>\n",
       "      <th>bitso</th>\n",
       "      <td>13020519.00</td>\n",
       "      <td>12748948.57</td>\n",
       "      <td>2023-06-14</td>\n",
       "    </tr>\n",
       "    <tr>\n",
       "      <th>letsbit</th>\n",
       "      <td>12960729.82</td>\n",
       "      <td>12726354.50</td>\n",
       "      <td>2023-06-14</td>\n",
       "    </tr>\n",
       "    <tr>\n",
       "      <th>fiwind</th>\n",
       "      <td>12960071.47</td>\n",
       "      <td>12829950.35</td>\n",
       "      <td>2023-06-14</td>\n",
       "    </tr>\n",
       "    <tr>\n",
       "      <th>lemoncash</th>\n",
       "      <td>12978963.94</td>\n",
       "      <td>12605021.14</td>\n",
       "      <td>2023-06-14</td>\n",
       "    </tr>\n",
       "    <tr>\n",
       "      <th>bitmonedero</th>\n",
       "      <td>13427705.56</td>\n",
       "      <td>12033958.18</td>\n",
       "      <td>2023-06-14</td>\n",
       "    </tr>\n",
       "    <tr>\n",
       "      <th>belo</th>\n",
       "      <td>13007499.12</td>\n",
       "      <td>12543817.28</td>\n",
       "      <td>2023-06-14</td>\n",
       "    </tr>\n",
       "    <tr>\n",
       "      <th>tiendacrypto</th>\n",
       "      <td>12882132.45</td>\n",
       "      <td>12491764.80</td>\n",
       "      <td>2023-06-14</td>\n",
       "    </tr>\n",
       "    <tr>\n",
       "      <th>saldo</th>\n",
       "      <td>13727434.91</td>\n",
       "      <td>12488701.35</td>\n",
       "      <td>2023-06-14</td>\n",
       "    </tr>\n",
       "    <tr>\n",
       "      <th>kriptonmarket</th>\n",
       "      <td>13250344.17</td>\n",
       "      <td>12095706.42</td>\n",
       "      <td>2023-06-14</td>\n",
       "    </tr>\n",
       "    <tr>\n",
       "      <th>calypso</th>\n",
       "      <td>13031601.71</td>\n",
       "      <td>11597940.18</td>\n",
       "      <td>2023-06-14</td>\n",
       "    </tr>\n",
       "    <tr>\n",
       "      <th>bybit</th>\n",
       "      <td>13002161.59</td>\n",
       "      <td>12558342.58</td>\n",
       "      <td>2023-06-14</td>\n",
       "    </tr>\n",
       "    <tr>\n",
       "      <th>binance</th>\n",
       "      <td>12938676.63</td>\n",
       "      <td>12790545.05</td>\n",
       "      <td>2023-06-14</td>\n",
       "    </tr>\n",
       "  </tbody>\n",
       "</table>\n",
       "</div>"
      ],
      "text/plain": [
       "                  totalAsk     totalBid        date\n",
       "argenbtc       12817014.76  12557517.00  2023-06-14\n",
       "buenbit        12960500.00  12832100.00  2023-06-14\n",
       "ripio          13168782.11  12272293.45  2023-06-14\n",
       "ripioexchange  13941595.28   9987752.75  2023-06-14\n",
       "satoshitango   13265567.20  12239360.56  2023-06-14\n",
       "cryptomkt      12882397.85  12514544.29  2023-06-14\n",
       "decrypto       12900752.35  12421771.30  2023-06-14\n",
       "latamex        12988665.94  12596999.68  2023-06-14\n",
       "bitso          13020519.00  12748948.57  2023-06-14\n",
       "letsbit        12960729.82  12726354.50  2023-06-14\n",
       "fiwind         12960071.47  12829950.35  2023-06-14\n",
       "lemoncash      12978963.94  12605021.14  2023-06-14\n",
       "bitmonedero    13427705.56  12033958.18  2023-06-14\n",
       "belo           13007499.12  12543817.28  2023-06-14\n",
       "tiendacrypto   12882132.45  12491764.80  2023-06-14\n",
       "saldo          13727434.91  12488701.35  2023-06-14\n",
       "kriptonmarket  13250344.17  12095706.42  2023-06-14\n",
       "calypso        13031601.71  11597940.18  2023-06-14\n",
       "bybit          13002161.59  12558342.58  2023-06-14\n",
       "binance        12938676.63  12790545.05  2023-06-14"
      ]
     },
     "execution_count": 12,
     "metadata": {},
     "output_type": "execute_result"
    }
   ],
   "source": [
    "df"
   ]
  },
  {
   "cell_type": "code",
   "execution_count": 13,
   "id": "f3eb95cf",
   "metadata": {
    "execution": {
     "iopub.execute_input": "2023-06-14T14:40:47.940769Z",
     "iopub.status.busy": "2023-06-14T14:40:47.940344Z",
     "iopub.status.idle": "2023-06-14T14:40:48.222316Z",
     "shell.execute_reply": "2023-06-14T14:40:48.221029Z"
    },
    "papermill": {
     "duration": 0.292611,
     "end_time": "2023-06-14T14:40:48.225009",
     "exception": false,
     "start_time": "2023-06-14T14:40:47.932398",
     "status": "completed"
    },
    "tags": []
   },
   "outputs": [],
   "source": [
    "import requests\n",
    "import pandas as pd\n",
    "from datetime import date\n",
    "import os\n",
    "\n",
    "# Definir la URL de la API y realizar la solicitud\n",
    "url = \"https://criptoya.com/api/btc/ars/0.1\"\n",
    "response = requests.get(url)\n",
    "json_data = response.json()\n",
    "\n",
    "# Extraer los campos relevantes y crear un diccionario de precios\n",
    "platform_prices = {}\n",
    "for platform, data in json_data.items():\n",
    "    platform_prices[platform] = {\n",
    "        'totalAsk': data['totalAsk'],\n",
    "        'totalBid': data['totalBid']\n",
    "    }\n",
    "\n",
    "# Crear un DataFrame con los nuevos datos y agregar una columna con la fecha actual\n",
    "new_data = pd.DataFrame(platform_prices).T\n",
    "new_data['date'] = date.today()\n",
    "\n",
    "# Crear un nombre de archivo basado en la fecha actual\n",
    "file_name = f\"tabla_{date.today()}.csv\"\n",
    "\n",
    "# Guardar el DataFrame en un archivo CSV separado por día\n",
    "new_data.to_csv(file_name, index=True)\n",
    "\n"
   ]
  },
  {
   "cell_type": "markdown",
   "id": "4f01c623",
   "metadata": {
    "papermill": {
     "duration": 0.006511,
     "end_time": "2023-06-14T14:40:48.238448",
     "exception": false,
     "start_time": "2023-06-14T14:40:48.231937",
     "status": "completed"
    },
    "tags": []
   },
   "source": [
    "## Sending to the monitor page"
   ]
  },
  {
   "cell_type": "code",
   "execution_count": 14,
   "id": "4be624f2",
   "metadata": {
    "_cell_guid": "ba25fb3a-a4e5-4f1c-8f54-e1f96d14f430",
    "_uuid": "86c5b4db-d56e-4ee7-8462-3c0c0247dc49",
    "collapsed": false,
    "execution": {
     "iopub.execute_input": "2023-06-14T14:40:48.254187Z",
     "iopub.status.busy": "2023-06-14T14:40:48.253849Z",
     "iopub.status.idle": "2023-06-14T14:40:59.966741Z",
     "shell.execute_reply": "2023-06-14T14:40:59.965345Z"
    },
    "jupyter": {
     "outputs_hidden": false
    },
    "papermill": {
     "duration": 11.723562,
     "end_time": "2023-06-14T14:40:59.969274",
     "exception": false,
     "start_time": "2023-06-14T14:40:48.245712",
     "status": "completed"
    },
    "tags": []
   },
   "outputs": [
    {
     "name": "stdout",
     "output_type": "stream",
     "text": [
      "Collecting chart_studio\r\n",
      "  Downloading chart_studio-1.1.0-py3-none-any.whl (64 kB)\r\n",
      "\u001b[2K     \u001b[90m━━━━━━━━━━━━━━━━━━━━━━━━━━━━━━━━━━━━━━━━\u001b[0m \u001b[32m64.4/64.4 kB\u001b[0m \u001b[31m3.8 MB/s\u001b[0m eta \u001b[36m0:00:00\u001b[0m\r\n",
      "\u001b[?25hRequirement already satisfied: plotly in /opt/conda/lib/python3.7/site-packages (from chart_studio) (5.10.0)\r\n",
      "Requirement already satisfied: requests in /opt/conda/lib/python3.7/site-packages (from chart_studio) (2.28.1)\r\n",
      "Requirement already satisfied: retrying>=1.3.3 in /opt/conda/lib/python3.7/site-packages (from chart_studio) (1.3.3)\r\n",
      "Requirement already satisfied: six in /opt/conda/lib/python3.7/site-packages (from chart_studio) (1.15.0)\r\n",
      "Requirement already satisfied: tenacity>=6.2.0 in /opt/conda/lib/python3.7/site-packages (from plotly->chart_studio) (8.0.1)\r\n",
      "Requirement already satisfied: certifi>=2017.4.17 in /opt/conda/lib/python3.7/site-packages (from requests->chart_studio) (2022.9.24)\r\n",
      "Requirement already satisfied: charset-normalizer<3,>=2 in /opt/conda/lib/python3.7/site-packages (from requests->chart_studio) (2.1.0)\r\n",
      "Requirement already satisfied: idna<4,>=2.5 in /opt/conda/lib/python3.7/site-packages (from requests->chart_studio) (3.3)\r\n",
      "Requirement already satisfied: urllib3<1.27,>=1.21.1 in /opt/conda/lib/python3.7/site-packages (from requests->chart_studio) (1.26.12)\r\n",
      "Installing collected packages: chart_studio\r\n",
      "Successfully installed chart_studio-1.1.0\r\n",
      "\u001b[33mWARNING: Running pip as the 'root' user can result in broken permissions and conflicting behaviour with the system package manager. It is recommended to use a virtual environment instead: https://pip.pypa.io/warnings/venv\u001b[0m\u001b[33m\r\n",
      "\u001b[0mNote: you may need to restart the kernel to use updated packages.\n"
     ]
    }
   ],
   "source": [
    "pip install chart_studio"
   ]
  },
  {
   "cell_type": "code",
   "execution_count": 15,
   "id": "b859192b",
   "metadata": {
    "execution": {
     "iopub.execute_input": "2023-06-14T14:40:59.986960Z",
     "iopub.status.busy": "2023-06-14T14:40:59.986423Z",
     "iopub.status.idle": "2023-06-14T14:41:00.006782Z",
     "shell.execute_reply": "2023-06-14T14:41:00.004512Z"
    },
    "papermill": {
     "duration": 0.032581,
     "end_time": "2023-06-14T14:41:00.009622",
     "exception": false,
     "start_time": "2023-06-14T14:40:59.977041",
     "status": "completed"
    },
    "tags": []
   },
   "outputs": [],
   "source": [
    "import chart_studio"
   ]
  },
  {
   "cell_type": "code",
   "execution_count": 16,
   "id": "c0e3f92f",
   "metadata": {
    "_cell_guid": "79763ece-1831-48c1-ac38-2a80d7a37738",
    "_uuid": "20f4a4fc-d0cf-4bad-85e9-fa4d7745112a",
    "collapsed": false,
    "execution": {
     "iopub.execute_input": "2023-06-14T14:41:00.027236Z",
     "iopub.status.busy": "2023-06-14T14:41:00.026841Z",
     "iopub.status.idle": "2023-06-14T14:41:00.032582Z",
     "shell.execute_reply": "2023-06-14T14:41:00.031277Z"
    },
    "jupyter": {
     "outputs_hidden": false
    },
    "papermill": {
     "duration": 0.017884,
     "end_time": "2023-06-14T14:41:00.035569",
     "exception": false,
     "start_time": "2023-06-14T14:41:00.017685",
     "status": "completed"
    },
    "tags": []
   },
   "outputs": [],
   "source": [
    "import chart_studio.plotly as py"
   ]
  },
  {
   "cell_type": "code",
   "execution_count": 17,
   "id": "3bbf6c22",
   "metadata": {
    "_cell_guid": "dee23d93-cd50-477a-8e02-ab78980f6027",
    "_uuid": "bd464846-f789-41d4-840a-aa46fb3867eb",
    "collapsed": false,
    "execution": {
     "iopub.execute_input": "2023-06-14T14:41:00.055424Z",
     "iopub.status.busy": "2023-06-14T14:41:00.054204Z",
     "iopub.status.idle": "2023-06-14T14:41:00.539004Z",
     "shell.execute_reply": "2023-06-14T14:41:00.537538Z"
    },
    "jupyter": {
     "outputs_hidden": false
    },
    "papermill": {
     "duration": 0.49813,
     "end_time": "2023-06-14T14:41:00.542079",
     "exception": false,
     "start_time": "2023-06-14T14:41:00.043949",
     "status": "completed"
    },
    "tags": []
   },
   "outputs": [],
   "source": [
    "from kaggle_secrets import UserSecretsClient\n",
    "user_secrets = UserSecretsClient()\n",
    "secret_value_0 = user_secrets.get_secret(\"CHARTSTUDIO_API_KEY\")\n",
    "secret_value_1 = user_secrets.get_secret(\"CHARTSTUDIO_BCRA_API_KEY\")"
   ]
  },
  {
   "cell_type": "code",
   "execution_count": 18,
   "id": "77a162e1",
   "metadata": {
    "_cell_guid": "e88169c2-7feb-4962-80cc-239afb678227",
    "_uuid": "d4a50025-2388-44d4-b1a0-11186ecbf90b",
    "collapsed": false,
    "execution": {
     "iopub.execute_input": "2023-06-14T14:41:00.558824Z",
     "iopub.status.busy": "2023-06-14T14:41:00.558395Z",
     "iopub.status.idle": "2023-06-14T14:41:03.631797Z",
     "shell.execute_reply": "2023-06-14T14:41:03.630491Z"
    },
    "jupyter": {
     "outputs_hidden": false
    },
    "papermill": {
     "duration": 3.08506,
     "end_time": "2023-06-14T14:41:03.635121",
     "exception": false,
     "start_time": "2023-06-14T14:41:00.550061",
     "status": "completed"
    },
    "tags": []
   },
   "outputs": [
    {
     "data": {
      "text/plain": [
       "'https://plotly.com/~emigiupponi/68/'"
      ]
     },
     "execution_count": 18,
     "metadata": {},
     "output_type": "execute_result"
    }
   ],
   "source": [
    "chart_studio.tools.set_credentials_file(username='emigiupponi', \n",
    "                                        api_key=secret_value_0)\n",
    "py.plot(fig, filename = 'arg-prices', auto_open=True)"
   ]
  },
  {
   "cell_type": "code",
   "execution_count": 19,
   "id": "c72b4248",
   "metadata": {
    "_cell_guid": "6d747586-a8c0-4f41-9f31-a1bdf41e0e85",
    "_uuid": "2504ac4d-7a27-4a78-9dcd-b5f807569e25",
    "collapsed": false,
    "execution": {
     "iopub.execute_input": "2023-06-14T14:41:03.652964Z",
     "iopub.status.busy": "2023-06-14T14:41:03.652522Z",
     "iopub.status.idle": "2023-06-14T14:41:06.688277Z",
     "shell.execute_reply": "2023-06-14T14:41:06.687114Z"
    },
    "jupyter": {
     "outputs_hidden": false
    },
    "papermill": {
     "duration": 3.047883,
     "end_time": "2023-06-14T14:41:06.690761",
     "exception": false,
     "start_time": "2023-06-14T14:41:03.642878",
     "status": "completed"
    },
    "tags": []
   },
   "outputs": [
    {
     "data": {
      "text/plain": [
       "'https://plotly.com/~crypto-financial-stability-monitor/33/'"
      ]
     },
     "execution_count": 19,
     "metadata": {},
     "output_type": "execute_result"
    }
   ],
   "source": [
    "chart_studio.tools.set_credentials_file(username='crypto-financial-stability-monitor', \n",
    "                                        api_key=secret_value_1)\n",
    "py.plot(fig, filename = 'arg-prices', auto_open=True)"
   ]
  }
 ],
 "metadata": {
  "kernelspec": {
   "display_name": "Python 3",
   "language": "python",
   "name": "python3"
  },
  "language_info": {
   "codemirror_mode": {
    "name": "ipython",
    "version": 3
   },
   "file_extension": ".py",
   "mimetype": "text/x-python",
   "name": "python",
   "nbconvert_exporter": "python",
   "pygments_lexer": "ipython3",
   "version": "3.7.12"
  },
  "papermill": {
   "default_parameters": {},
   "duration": 30.710152,
   "end_time": "2023-06-14T14:41:07.420882",
   "environment_variables": {},
   "exception": null,
   "input_path": "__notebook__.ipynb",
   "output_path": "__notebook__.ipynb",
   "parameters": {},
   "start_time": "2023-06-14T14:40:36.710730",
   "version": "2.3.4"
  }
 },
 "nbformat": 4,
 "nbformat_minor": 5
}
